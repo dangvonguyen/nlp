{
 "cells": [
  {
   "cell_type": "code",
   "execution_count": 2,
   "metadata": {
    "execution": {
     "iopub.execute_input": "2025-06-29T23:31:41.373418Z",
     "iopub.status.busy": "2025-06-29T23:31:41.373183Z",
     "iopub.status.idle": "2025-06-29T23:32:08.382474Z",
     "shell.execute_reply": "2025-06-29T23:32:08.381867Z",
     "shell.execute_reply.started": "2025-06-29T23:31:41.373396Z"
    },
    "trusted": true
   },
   "outputs": [],
   "source": [
    "import re\n",
    "import time\n",
    "\n",
    "import matplotlib.pyplot as plt\n",
    "import numpy as np\n",
    "import pandas as pd\n",
    "import seaborn as sns\n",
    "import torch\n",
    "import torch.nn as nn\n",
    "import torch.nn.functional as F\n",
    "from datasets import Dataset, DatasetDict, load_dataset\n",
    "from sklearn.metrics import classification_report, confusion_matrix, f1_score\n",
    "from transformers import (\n",
    "    AutoModelForSequenceClassification,\n",
    "    AutoTokenizer,\n",
    "    Trainer,\n",
    "    TrainingArguments,\n",
    ")"
   ]
  },
  {
   "cell_type": "markdown",
   "metadata": {},
   "source": [
    "## Load dataset"
   ]
  },
  {
   "cell_type": "code",
   "execution_count": 3,
   "metadata": {
    "execution": {
     "iopub.execute_input": "2025-06-29T23:32:08.383934Z",
     "iopub.status.busy": "2025-06-29T23:32:08.383257Z",
     "iopub.status.idle": "2025-06-29T23:32:11.640053Z",
     "shell.execute_reply": "2025-06-29T23:32:11.639396Z",
     "shell.execute_reply.started": "2025-06-29T23:32:08.383907Z"
    },
    "trusted": true
   },
   "outputs": [
    {
     "data": {
      "text/plain": [
       "DatasetDict({\n",
       "    train: Dataset({\n",
       "        features: ['free_text', 'label_id'],\n",
       "        num_rows: 24048\n",
       "    })\n",
       "    validation: Dataset({\n",
       "        features: ['free_text', 'label_id'],\n",
       "        num_rows: 2672\n",
       "    })\n",
       "    test: Dataset({\n",
       "        features: ['free_text', 'label_id'],\n",
       "        num_rows: 6680\n",
       "    })\n",
       "})"
      ]
     },
     "execution_count": 3,
     "metadata": {},
     "output_type": "execute_result"
    }
   ],
   "source": [
    "dataset= load_dataset(\"sonlam1102/vihsd\")\n",
    "\n",
    "train = pd.DataFrame(dataset['train'])\n",
    "\n",
    "dataset"
   ]
  },
  {
   "cell_type": "code",
   "execution_count": 6,
   "metadata": {
    "execution": {
     "iopub.execute_input": "2025-06-29T23:32:11.640986Z",
     "iopub.status.busy": "2025-06-29T23:32:11.640740Z",
     "iopub.status.idle": "2025-06-29T23:32:11.727270Z",
     "shell.execute_reply": "2025-06-29T23:32:11.726671Z",
     "shell.execute_reply.started": "2025-06-29T23:32:11.640969Z"
    },
    "trusted": true
   },
   "outputs": [
    {
     "data": {
      "text/plain": [
       "DatasetDict({\n",
       "    train: Dataset({\n",
       "        features: ['free_text', 'label_id'],\n",
       "        num_rows: 34290\n",
       "    })\n",
       "    validation: Dataset({\n",
       "        features: ['free_text', 'label_id'],\n",
       "        num_rows: 2672\n",
       "    })\n",
       "    test: Dataset({\n",
       "        features: ['free_text', 'label_id'],\n",
       "        num_rows: 6680\n",
       "    })\n",
       "})"
      ]
     },
     "execution_count": 6,
     "metadata": {},
     "output_type": "execute_result"
    }
   ],
   "source": [
    "# Load augmented eda data\n",
    "aug_eda_offensive = pd.read_csv('data/aug_eda_offensive.csv', sep='|')\n",
    "aug_eda_hate = pd.read_csv('data/aug_eda_hate.csv', sep='|')\n",
    "\n",
    "# Add to train in dataset\n",
    "eda_dataset = DatasetDict(dataset)\n",
    "eda_dataset['train'] = Dataset.from_pandas(\n",
    "    pd.concat([train, aug_eda_offensive, aug_eda_hate], ignore_index=True)\n",
    ")\n",
    "eda_dataset"
   ]
  },
  {
   "cell_type": "code",
   "execution_count": 7,
   "metadata": {
    "execution": {
     "iopub.execute_input": "2025-06-29T23:32:11.728196Z",
     "iopub.status.busy": "2025-06-29T23:32:11.727976Z",
     "iopub.status.idle": "2025-06-29T23:32:11.776367Z",
     "shell.execute_reply": "2025-06-29T23:32:11.775779Z",
     "shell.execute_reply.started": "2025-06-29T23:32:11.728178Z"
    },
    "trusted": true
   },
   "outputs": [
    {
     "data": {
      "text/plain": [
       "DatasetDict({\n",
       "    train: Dataset({\n",
       "        features: ['free_text', 'label_id'],\n",
       "        num_rows: 34048\n",
       "    })\n",
       "    validation: Dataset({\n",
       "        features: ['free_text', 'label_id'],\n",
       "        num_rows: 2672\n",
       "    })\n",
       "    test: Dataset({\n",
       "        features: ['free_text', 'label_id'],\n",
       "        num_rows: 6680\n",
       "    })\n",
       "})"
      ]
     },
     "execution_count": 7,
     "metadata": {},
     "output_type": "execute_result"
    }
   ],
   "source": [
    "# Load augmented llm data\n",
    "aug_llm_offensive = pd.read_csv('data/aug_llm_offensive.csv', sep='|')\n",
    "aug_llm_hate = pd.read_csv('data/aug_llm_hate.csv', sep='|')\n",
    "\n",
    "# Add to train in dataset\n",
    "llm_dataset = DatasetDict(dataset)\n",
    "llm_dataset['train'] = Dataset.from_pandas(\n",
    "    pd.concat([train, aug_llm_offensive, aug_llm_hate], ignore_index=True)\n",
    ")\n",
    "llm_dataset"
   ]
  },
  {
   "cell_type": "markdown",
   "metadata": {},
   "source": [
    "## Preprocessing"
   ]
  },
  {
   "cell_type": "code",
   "execution_count": 11,
   "metadata": {
    "execution": {
     "iopub.execute_input": "2025-06-29T23:32:11.955111Z",
     "iopub.status.busy": "2025-06-29T23:32:11.954932Z",
     "iopub.status.idle": "2025-06-29T23:32:11.968250Z",
     "shell.execute_reply": "2025-06-29T23:32:11.967557Z",
     "shell.execute_reply.started": "2025-06-29T23:32:11.955098Z"
    },
    "trusted": true
   },
   "outputs": [],
   "source": [
    "EMOTICON_PATH = 'data/convert/emoticon.txt'\n",
    "TEENCODE_PATH = 'data/convert/teencode.txt'"
   ]
  },
  {
   "cell_type": "code",
   "execution_count": 12,
   "metadata": {
    "execution": {
     "iopub.execute_input": "2025-06-29T23:32:11.969338Z",
     "iopub.status.busy": "2025-06-29T23:32:11.969087Z",
     "iopub.status.idle": "2025-06-29T23:32:11.989217Z",
     "shell.execute_reply": "2025-06-29T23:32:11.988475Z",
     "shell.execute_reply.started": "2025-06-29T23:32:11.969313Z"
    },
    "trusted": true
   },
   "outputs": [],
   "source": [
    "# Technique 1: Standardizing words\n",
    "def remove_character(text: str) -> str:\n",
    "    \"\"\"Standardize text by removing consecutive characters.\"\"\"\n",
    "    return re.sub(r'(.)\\1+', r'\\1', text)\n",
    "\n",
    "\n",
    "# Technique 2: Converting emoticons to emojis\n",
    "emoticon_df = pd.read_csv(EMOTICON_PATH, sep='|', header=None)\n",
    "emoticon_data = dict(zip(emoticon_df[0], emoticon_df[1]))\n",
    "\n",
    "def convert_emoticon(text: str) -> str:\n",
    "    \"\"\"Convert emoticon to emoji.\"\"\"\n",
    "    for k, v in emoticon_data.items():\n",
    "        text = re.sub(re.escape(k), f' {v} ', text)\n",
    "    return text\n",
    "\n",
    "\n",
    "# Technique 3: Convert teencode to complete word\n",
    "teencode_df = pd.read_csv(TEENCODE_PATH, sep='|', header=None)\n",
    "teencode_data = dict(zip(teencode_df[0], teencode_df[1]))\n",
    "\n",
    "def convert_teencode(text: str) -> str:\n",
    "    \"\"\"Convert teencode to complete word.\"\"\"\n",
    "    for k, v in teencode_data.items():\n",
    "        text = re.sub(rf'\\b{re.escape(k)}\\b', f' {v} ', text)\n",
    "    return text\n",
    "\n",
    "\n",
    "# Normalize text\n",
    "emoji_pattern = (\n",
    "    r'['\n",
    "    '\\U0001f600-\\U0001f64f'\n",
    "    '\\U0001f300-\\U0001f5ff'\n",
    "    '\\U0001f680-\\U0001f6ff'\n",
    "    '\\U0001f1e0-\\U0001f1ff'\n",
    "    '\\U00002600-\\U000026ff'\n",
    "    '\\U00002700-\\U000027bf'\n",
    "    ']+'\n",
    ")\n",
    "tokenize_pattern = re.compile(r'\\w+|' + emoji_pattern + r'|[^\\s\\w]+')\n",
    "\n",
    "\n",
    "def normalize_text(text: str) -> str:\n",
    "    \"\"\"Normalize text with consistent spacing between tokens.\"\"\"\n",
    "    return ' '.join(tokenize_pattern.findall(text))"
   ]
  },
  {
   "cell_type": "code",
   "execution_count": 13,
   "metadata": {
    "execution": {
     "iopub.execute_input": "2025-06-29T23:32:11.990308Z",
     "iopub.status.busy": "2025-06-29T23:32:11.990029Z",
     "iopub.status.idle": "2025-06-29T23:32:11.994851Z",
     "shell.execute_reply": "2025-06-29T23:32:11.994136Z",
     "shell.execute_reply.started": "2025-06-29T23:32:11.990284Z"
    },
    "trusted": true
   },
   "outputs": [],
   "source": [
    "preprocess_methods = {\n",
    "    '1': remove_character,\n",
    "    '2': convert_emoticon,\n",
    "    '3': convert_teencode,\n",
    "}\n",
    "\n",
    "def preprocess_text(text: str, methods: list[str], normalize: bool = False) -> str:\n",
    "    text = str(text)\n",
    "\n",
    "    for method in methods:\n",
    "        text = preprocess_methods[method](text)\n",
    "\n",
    "    if normalize:\n",
    "        text = normalize_text(text)\n",
    "\n",
    "    return text"
   ]
  },
  {
   "cell_type": "markdown",
   "metadata": {},
   "source": [
    "## Model"
   ]
  },
  {
   "cell_type": "code",
   "execution_count": 14,
   "metadata": {
    "execution": {
     "iopub.execute_input": "2025-06-29T23:32:11.995724Z",
     "iopub.status.busy": "2025-06-29T23:32:11.995550Z",
     "iopub.status.idle": "2025-06-29T23:32:12.005658Z",
     "shell.execute_reply": "2025-06-29T23:32:12.005113Z",
     "shell.execute_reply.started": "2025-06-29T23:32:11.995711Z"
    },
    "trusted": true
   },
   "outputs": [],
   "source": [
    "class FocalLoss(nn.Module):\n",
    "    def __init__(self, gamma=2, weight=None, ignore_index=-100) -> None:\n",
    "        super().__init__()\n",
    "        self.gamma = gamma\n",
    "        self.weight = weight\n",
    "        self.ignore_index = ignore_index\n",
    "\n",
    "    def forward(self, inputs, targets):\n",
    "        logits = F.log_softmax(inputs, dim=1)\n",
    "        pt = torch.exp(logits)\n",
    "        logits = (1 - pt) ** self.gamma * logits\n",
    "        loss = F.nll_loss(logits, targets, weight=self.weight, ignore_index=self.ignore_index)\n",
    "        return loss\n",
    "\n",
    "    # def forward(self, inputs, targets):\n",
    "    #     ce_loss = F.cross_entropy(inputs, targets, weight=self.weight, ignore_index=self.ignore_index)\n",
    "    #     pt = torch.exp(-ce_loss)\n",
    "    #     loss = self.alpha * (1 - pt) ** self.gamma * ce_loss\n",
    "    #     return loss\n",
    "\n",
    "\n",
    "class CustomTrainer(Trainer):\n",
    "    def compute_loss(self, model, inputs, return_outputs=False, num_items_in_batch=None):\n",
    "        labels = inputs.get(\"labels\")\n",
    "        outputs = model(**inputs)\n",
    "        logits = outputs.get(\"logits\")\n",
    "        loss = FocalLoss()(logits, labels)\n",
    "        return (loss, outputs) if return_outputs else loss\n",
    "\n",
    "\n",
    "class CustomDataset(torch.utils.data.Dataset):\n",
    "    def __init__(self, texts, labels, tokenizer, max_length=128, preprocess_methods=[], normalize=False):\n",
    "        self.texts = texts\n",
    "        self.labels = labels\n",
    "        self.tokenizer = tokenizer\n",
    "        self.max_length = max_length\n",
    "        self.preprocess_methods = preprocess_methods\n",
    "        self.normalize = normalize\n",
    "\n",
    "        self.load_encodings()\n",
    "\n",
    "    def load_encodings(self):\n",
    "        self.encodings = []\n",
    "        for text in self.texts:\n",
    "            text = preprocess_text(text, self.preprocess_methods, self.normalize)\n",
    "            encoding = self.tokenizer(\n",
    "                text, padding='max_length', truncation=True, max_length=self.max_length\n",
    "            )\n",
    "            self.encodings.append(encoding)\n",
    "\n",
    "    def __len__(self):\n",
    "        return len(self.texts)\n",
    "\n",
    "    def __getitem__(self, idx):\n",
    "        encoding = self.encodings[idx]\n",
    "        label = self.labels[idx]\n",
    "\n",
    "        return {\n",
    "            'input_ids': torch.tensor(encoding['input_ids']),\n",
    "            'attention_mask': torch.tensor(encoding['attention_mask']),\n",
    "            'labels': torch.tensor(label),\n",
    "        }"
   ]
  },
  {
   "cell_type": "code",
   "execution_count": 15,
   "metadata": {
    "execution": {
     "iopub.execute_input": "2025-06-29T23:32:12.006823Z",
     "iopub.status.busy": "2025-06-29T23:32:12.006415Z",
     "iopub.status.idle": "2025-06-29T23:32:12.030074Z",
     "shell.execute_reply": "2025-06-29T23:32:12.029345Z",
     "shell.execute_reply.started": "2025-06-29T23:32:12.006800Z"
    },
    "trusted": true
   },
   "outputs": [],
   "source": [
    "def train(\n",
    "    dataset: DatasetDict,\n",
    "    model_name: str,\n",
    "    max_length: int = 128,\n",
    "    batch_size: int = 16,\n",
    "    num_epochs: int = 3,\n",
    "    learning_rate: float = 2e-5,\n",
    "    preprocess_methods: list[str] = [],\n",
    "    normalize: bool = False,\n",
    "    output_dir: str | None = None,\n",
    "    device: str = 'cpu',\n",
    ") -> Trainer:\n",
    "    if output_dir is None:\n",
    "        output_dir = f'./results/{time.strftime(\"%Y%m%d_%H%M%S\")}'\n",
    "\n",
    "    labels = ['CLEAN', 'OFFENSIVE', 'HATE']\n",
    "\n",
    "    tokenizer = AutoTokenizer.from_pretrained(model_name)\n",
    "    model = AutoModelForSequenceClassification.from_pretrained(model_name, num_labels=len(labels))\n",
    "\n",
    "    def get_ds(split: str) -> CustomDataset:\n",
    "        df = pd.DataFrame(dataset[split])\n",
    "        return CustomDataset(\n",
    "            df['free_text'],\n",
    "            df['label_id'],\n",
    "            tokenizer,\n",
    "            max_length,\n",
    "            preprocess_methods,\n",
    "            normalize,\n",
    "        )\n",
    "\n",
    "    train_ds = get_ds('train')\n",
    "    dev_ds = get_ds('validation')\n",
    "    test_ds = get_ds('test')\n",
    "\n",
    "    training_args = TrainingArguments(\n",
    "        output_dir=output_dir,\n",
    "        num_train_epochs=num_epochs,\n",
    "        per_device_train_batch_size=batch_size,\n",
    "        per_device_eval_batch_size=batch_size,\n",
    "        learning_rate=learning_rate,\n",
    "        warmup_steps=100,\n",
    "        weight_decay=0.01,\n",
    "        do_eval=True,\n",
    "        no_cuda=device == 'cpu',\n",
    "        logging_steps=200,\n",
    "        report_to=[],\n",
    "    )\n",
    "\n",
    "    trainer = CustomTrainer(\n",
    "        model=model,\n",
    "        args=training_args,\n",
    "        train_dataset=train_ds,\n",
    "        eval_dataset=dev_ds,\n",
    "    )\n",
    "\n",
    "    trainer.train()\n",
    "    trainer.save_model(output_dir)\n",
    "\n",
    "    y_pred_classify = trainer.predict(test_ds)\n",
    "\n",
    "    y_pred = np.argmax(y_pred_classify.predictions, axis=-1)\n",
    "    y_true = test_ds.labels\n",
    "\n",
    "    cm = confusion_matrix(y_true, y_pred)\n",
    "    print(cm)\n",
    "\n",
    "    f1_micro = f1_score(y_true, y_pred, average='micro')\n",
    "    print(f'F1 - micro: {f1_micro}')\n",
    "\n",
    "    f1_macro = f1_score(y_true, y_pred, average='macro')\n",
    "    print(f'F1 - macro: {f1_macro}')\n",
    "\n",
    "    report = classification_report(y_true, y_pred, target_names=labels)\n",
    "    print(report)\n",
    "\n",
    "    # Visualize confusion matrix\n",
    "    df_cm = pd.DataFrame(cm, index=labels, columns=labels)\n",
    "    plt.figure(figsize=(8, 8))\n",
    "    sns.heatmap(df_cm, annot=True, fmt='d', cmap='Blues', cbar=False)\n",
    "    plt.title('Confusion Matrix')\n",
    "    plt.xlabel('Predicted')\n",
    "    plt.ylabel('True') \n",
    "    plt.tight_layout()\n",
    "    plt.show()\n",
    "\n",
    "    return trainer"
   ]
  },
  {
   "cell_type": "markdown",
   "metadata": {},
   "source": [
    "## PhoBERT - No Preprocessing - No Augmented Data"
   ]
  },
  {
   "cell_type": "code",
   "execution_count": 14,
   "metadata": {
    "execution": {
     "iopub.execute_input": "2025-06-29T11:38:20.521117Z",
     "iopub.status.busy": "2025-06-29T11:38:20.520907Z",
     "iopub.status.idle": "2025-06-29T12:02:43.662604Z",
     "shell.execute_reply": "2025-06-29T12:02:43.661845Z",
     "shell.execute_reply.started": "2025-06-29T11:38:20.521102Z"
    },
    "trusted": true
   },
   "outputs": [
    {
     "name": "stderr",
     "output_type": "stream",
     "text": [
      "Some weights of RobertaForSequenceClassification were not initialized from the model checkpoint at vinai/phobert-base and are newly initialized: ['classifier.dense.bias', 'classifier.dense.weight', 'classifier.out_proj.bias', 'classifier.out_proj.weight']\n",
      "You should probably TRAIN this model on a down-stream task to be able to use it for predictions and inference.\n"
     ]
    },
    {
     "data": {
      "text/html": [
       "\n",
       "    <div>\n",
       "      \n",
       "      <progress value='1880' max='1880' style='width:300px; height:20px; vertical-align: middle;'></progress>\n",
       "      [1880/1880 23:46, Epoch 5/5]\n",
       "    </div>\n",
       "    <table border=\"1\" class=\"dataframe\">\n",
       "  <thead>\n",
       " <tr style=\"text-align: left;\">\n",
       "      <th>Step</th>\n",
       "      <th>Training Loss</th>\n",
       "    </tr>\n",
       "  </thead>\n",
       "  <tbody>\n",
       "    <tr>\n",
       "      <td>200</td>\n",
       "      <td>0.228400</td>\n",
       "    </tr>\n",
       "    <tr>\n",
       "      <td>400</td>\n",
       "      <td>0.163300</td>\n",
       "    </tr>\n",
       "    <tr>\n",
       "      <td>600</td>\n",
       "      <td>0.127400</td>\n",
       "    </tr>\n",
       "    <tr>\n",
       "      <td>800</td>\n",
       "      <td>0.115800</td>\n",
       "    </tr>\n",
       "    <tr>\n",
       "      <td>1000</td>\n",
       "      <td>0.088500</td>\n",
       "    </tr>\n",
       "    <tr>\n",
       "      <td>1200</td>\n",
       "      <td>0.077600</td>\n",
       "    </tr>\n",
       "    <tr>\n",
       "      <td>1400</td>\n",
       "      <td>0.057900</td>\n",
       "    </tr>\n",
       "    <tr>\n",
       "      <td>1600</td>\n",
       "      <td>0.045600</td>\n",
       "    </tr>\n",
       "    <tr>\n",
       "      <td>1800</td>\n",
       "      <td>0.038700</td>\n",
       "    </tr>\n",
       "  </tbody>\n",
       "</table><p>"
      ],
      "text/plain": [
       "<IPython.core.display.HTML object>"
      ]
     },
     "metadata": {},
     "output_type": "display_data"
    },
    {
     "data": {
      "text/html": [],
      "text/plain": [
       "<IPython.core.display.HTML object>"
      ]
     },
     "metadata": {},
     "output_type": "display_data"
    },
    {
     "name": "stdout",
     "output_type": "stream",
     "text": [
      "[[5233  167  148]\n",
      " [ 189  180   75]\n",
      " [ 213  104  371]]\n",
      "F1 - micro: 0.8658682634730539\n",
      "F1 - macro: 0.63896753779288\n",
      "              precision    recall  f1-score   support\n",
      "\n",
      "       CLEAN       0.93      0.94      0.94      5548\n",
      "   OFFENSIVE       0.40      0.41      0.40       444\n",
      "        HATE       0.62      0.54      0.58       688\n",
      "\n",
      "    accuracy                           0.87      6680\n",
      "   macro avg       0.65      0.63      0.64      6680\n",
      "weighted avg       0.86      0.87      0.86      6680\n",
      "\n"
     ]
    },
    {
     "data": {
      "image/png": "[encoded data removed]",
      "text/plain": [
       "<Figure size 800x800 with 1 Axes>"
      ]
     },
     "metadata": {},
     "output_type": "display_data"
    },
    {
     "data": {
      "text/plain": [
       "<__main__.CustomTrainer at 0x785afb042dd0>"
      ]
     },
     "execution_count": 14,
     "metadata": {},
     "output_type": "execute_result"
    }
   ],
   "source": [
    "train(\n",
    "    dataset=dataset,\n",
    "    model_name='vinai/phobert-base',\n",
    "    max_length=128,\n",
    "    batch_size=64,\n",
    "    num_epochs=5,\n",
    "    learning_rate=5e-5,\n",
    "    preprocess_methods=[],\n",
    "    normalize=False,\n",
    "    output_dir='./results/phobert/no_pp-no_aug',\n",
    "    device='cuda' if torch.cuda.is_available() else 'cpu',\n",
    ")"
   ]
  },
  {
   "cell_type": "markdown",
   "metadata": {},
   "source": [
    "## PhoBERT - Normalize - No Augmented Data"
   ]
  },
  {
   "cell_type": "code",
   "execution_count": 15,
   "metadata": {
    "execution": {
     "iopub.execute_input": "2025-06-29T12:03:07.711887Z",
     "iopub.status.busy": "2025-06-29T12:03:07.711324Z",
     "iopub.status.idle": "2025-06-29T12:27:32.052857Z",
     "shell.execute_reply": "2025-06-29T12:27:32.052264Z",
     "shell.execute_reply.started": "2025-06-29T12:03:07.711856Z"
    },
    "trusted": true
   },
   "outputs": [
    {
     "name": "stderr",
     "output_type": "stream",
     "text": [
      "Some weights of RobertaForSequenceClassification were not initialized from the model checkpoint at vinai/phobert-base and are newly initialized: ['classifier.dense.bias', 'classifier.dense.weight', 'classifier.out_proj.bias', 'classifier.out_proj.weight']\n",
      "You should probably TRAIN this model on a down-stream task to be able to use it for predictions and inference.\n"
     ]
    },
    {
     "data": {
      "text/html": [
       "\n",
       "    <div>\n",
       "      \n",
       "      <progress value='1880' max='1880' style='width:300px; height:20px; vertical-align: middle;'></progress>\n",
       "      [1880/1880 23:48, Epoch 5/5]\n",
       "    </div>\n",
       "    <table border=\"1\" class=\"dataframe\">\n",
       "  <thead>\n",
       " <tr style=\"text-align: left;\">\n",
       "      <th>Step</th>\n",
       "      <th>Training Loss</th>\n",
       "    </tr>\n",
       "  </thead>\n",
       "  <tbody>\n",
       "    <tr>\n",
       "      <td>200</td>\n",
       "      <td>0.227700</td>\n",
       "    </tr>\n",
       "    <tr>\n",
       "      <td>400</td>\n",
       "      <td>0.160600</td>\n",
       "    </tr>\n",
       "    <tr>\n",
       "      <td>600</td>\n",
       "      <td>0.124000</td>\n",
       "    </tr>\n",
       "    <tr>\n",
       "      <td>800</td>\n",
       "      <td>0.114200</td>\n",
       "    </tr>\n",
       "    <tr>\n",
       "      <td>1000</td>\n",
       "      <td>0.087000</td>\n",
       "    </tr>\n",
       "    <tr>\n",
       "      <td>1200</td>\n",
       "      <td>0.073800</td>\n",
       "    </tr>\n",
       "    <tr>\n",
       "      <td>1400</td>\n",
       "      <td>0.057600</td>\n",
       "    </tr>\n",
       "    <tr>\n",
       "      <td>1600</td>\n",
       "      <td>0.043700</td>\n",
       "    </tr>\n",
       "    <tr>\n",
       "      <td>1800</td>\n",
       "      <td>0.037200</td>\n",
       "    </tr>\n",
       "  </tbody>\n",
       "</table><p>"
      ],
      "text/plain": [
       "<IPython.core.display.HTML object>"
      ]
     },
     "metadata": {},
     "output_type": "display_data"
    },
    {
     "data": {
      "text/html": [],
      "text/plain": [
       "<IPython.core.display.HTML object>"
      ]
     },
     "metadata": {},
     "output_type": "display_data"
    },
    {
     "name": "stdout",
     "output_type": "stream",
     "text": [
      "[[5232  168  148]\n",
      " [ 179  188   77]\n",
      " [ 228   87  373]]\n",
      "F1 - micro: 0.8672155688622755\n",
      "F1 - macro: 0.6464551716739071\n",
      "              precision    recall  f1-score   support\n",
      "\n",
      "       CLEAN       0.93      0.94      0.94      5548\n",
      "   OFFENSIVE       0.42      0.42      0.42       444\n",
      "        HATE       0.62      0.54      0.58       688\n",
      "\n",
      "    accuracy                           0.87      6680\n",
      "   macro avg       0.66      0.64      0.65      6680\n",
      "weighted avg       0.86      0.87      0.86      6680\n",
      "\n"
     ]
    },
    {
     "data": {
      "image/png": "[encoded data removed]",
      "text/plain": [
       "<Figure size 800x800 with 1 Axes>"
      ]
     },
     "metadata": {},
     "output_type": "display_data"
    },
    {
     "data": {
      "text/plain": [
       "<__main__.CustomTrainer at 0x785afbbf4b90>"
      ]
     },
     "execution_count": 15,
     "metadata": {},
     "output_type": "execute_result"
    }
   ],
   "source": [
    "train(\n",
    "    dataset=dataset,\n",
    "    model_name='vinai/phobert-base',\n",
    "    max_length=128,\n",
    "    batch_size=64,\n",
    "    num_epochs=5,\n",
    "    learning_rate=5e-5,\n",
    "    preprocess_methods=[],\n",
    "    normalize=True,\n",
    "    output_dir='./results/phobert/norm-no_aug',\n",
    "    device='cuda' if torch.cuda.is_available() else 'cpu',\n",
    ")"
   ]
  },
  {
   "cell_type": "markdown",
   "metadata": {},
   "source": [
    "## PhoBERT - 1 + Normalize - No Augmented Data"
   ]
  },
  {
   "cell_type": "code",
   "execution_count": 15,
   "metadata": {
    "execution": {
     "iopub.execute_input": "2025-06-29T13:32:17.334696Z",
     "iopub.status.busy": "2025-06-29T13:32:17.334142Z",
     "iopub.status.idle": "2025-06-29T13:56:30.864965Z",
     "shell.execute_reply": "2025-06-29T13:56:30.864305Z",
     "shell.execute_reply.started": "2025-06-29T13:32:17.334658Z"
    },
    "trusted": true
   },
   "outputs": [
    {
     "name": "stderr",
     "output_type": "stream",
     "text": [
      "Some weights of RobertaForSequenceClassification were not initialized from the model checkpoint at vinai/phobert-base and are newly initialized: ['classifier.dense.bias', 'classifier.dense.weight', 'classifier.out_proj.bias', 'classifier.out_proj.weight']\n",
      "You should probably TRAIN this model on a down-stream task to be able to use it for predictions and inference.\n"
     ]
    },
    {
     "data": {
      "text/html": [
       "\n",
       "    <div>\n",
       "      \n",
       "      <progress value='1880' max='1880' style='width:300px; height:20px; vertical-align: middle;'></progress>\n",
       "      [1880/1880 23:37, Epoch 5/5]\n",
       "    </div>\n",
       "    <table border=\"1\" class=\"dataframe\">\n",
       "  <thead>\n",
       " <tr style=\"text-align: left;\">\n",
       "      <th>Step</th>\n",
       "      <th>Training Loss</th>\n",
       "    </tr>\n",
       "  </thead>\n",
       "  <tbody>\n",
       "    <tr>\n",
       "      <td>200</td>\n",
       "      <td>0.225900</td>\n",
       "    </tr>\n",
       "    <tr>\n",
       "      <td>400</td>\n",
       "      <td>0.158900</td>\n",
       "    </tr>\n",
       "    <tr>\n",
       "      <td>600</td>\n",
       "      <td>0.124600</td>\n",
       "    </tr>\n",
       "    <tr>\n",
       "      <td>800</td>\n",
       "      <td>0.113000</td>\n",
       "    </tr>\n",
       "    <tr>\n",
       "      <td>1000</td>\n",
       "      <td>0.086900</td>\n",
       "    </tr>\n",
       "    <tr>\n",
       "      <td>1200</td>\n",
       "      <td>0.074300</td>\n",
       "    </tr>\n",
       "    <tr>\n",
       "      <td>1400</td>\n",
       "      <td>0.054000</td>\n",
       "    </tr>\n",
       "    <tr>\n",
       "      <td>1600</td>\n",
       "      <td>0.043300</td>\n",
       "    </tr>\n",
       "    <tr>\n",
       "      <td>1800</td>\n",
       "      <td>0.037100</td>\n",
       "    </tr>\n",
       "  </tbody>\n",
       "</table><p>"
      ],
      "text/plain": [
       "<IPython.core.display.HTML object>"
      ]
     },
     "metadata": {},
     "output_type": "display_data"
    },
    {
     "data": {
      "text/html": [],
      "text/plain": [
       "<IPython.core.display.HTML object>"
      ]
     },
     "metadata": {},
     "output_type": "display_data"
    },
    {
     "name": "stdout",
     "output_type": "stream",
     "text": [
      "[[5253  158  137]\n",
      " [ 184  193   67]\n",
      " [ 218   98  372]]\n",
      "F1 - micro: 0.8709580838323353\n",
      "F1 - macro: 0.6528809856017884\n",
      "              precision    recall  f1-score   support\n",
      "\n",
      "       CLEAN       0.93      0.95      0.94      5548\n",
      "   OFFENSIVE       0.43      0.43      0.43       444\n",
      "        HATE       0.65      0.54      0.59       688\n",
      "\n",
      "    accuracy                           0.87      6680\n",
      "   macro avg       0.67      0.64      0.65      6680\n",
      "weighted avg       0.87      0.87      0.87      6680\n",
      "\n"
     ]
    },
    {
     "data": {
      "image/png": "[encoded data removed]",
      "text/plain": [
       "<Figure size 800x800 with 1 Axes>"
      ]
     },
     "metadata": {},
     "output_type": "display_data"
    },
    {
     "data": {
      "text/plain": [
       "<__main__.CustomTrainer at 0x78d9ee96c6d0>"
      ]
     },
     "execution_count": 15,
     "metadata": {},
     "output_type": "execute_result"
    }
   ],
   "source": [
    "train(\n",
    "    dataset=dataset,\n",
    "    model_name='vinai/phobert-base',\n",
    "    max_length=128,\n",
    "    batch_size=64,\n",
    "    num_epochs=5,\n",
    "    learning_rate=5e-5,\n",
    "    preprocess_methods=['1'],\n",
    "    normalize=True,\n",
    "    output_dir='./results/phobert/1-norm-no_aug',\n",
    "    device='cuda' if torch.cuda.is_available() else 'cpu',\n",
    ")"
   ]
  },
  {
   "cell_type": "markdown",
   "metadata": {},
   "source": [
    "## PhoBERT - 1 + 2 + Normalize - No Augmented Data"
   ]
  },
  {
   "cell_type": "code",
   "execution_count": 16,
   "metadata": {
    "execution": {
     "iopub.execute_input": "2025-06-29T18:28:49.793869Z",
     "iopub.status.busy": "2025-06-29T18:28:49.793256Z",
     "iopub.status.idle": "2025-06-29T18:53:14.488064Z",
     "shell.execute_reply": "2025-06-29T18:53:14.487238Z",
     "shell.execute_reply.started": "2025-06-29T18:28:49.793847Z"
    },
    "trusted": true
   },
   "outputs": [
    {
     "name": "stderr",
     "output_type": "stream",
     "text": [
      "Some weights of RobertaForSequenceClassification were not initialized from the model checkpoint at vinai/phobert-base and are newly initialized: ['classifier.dense.bias', 'classifier.dense.weight', 'classifier.out_proj.bias', 'classifier.out_proj.weight']\n",
      "You should probably TRAIN this model on a down-stream task to be able to use it for predictions and inference.\n"
     ]
    },
    {
     "data": {
      "text/html": [
       "\n",
       "    <div>\n",
       "      \n",
       "      <progress value='1880' max='1880' style='width:300px; height:20px; vertical-align: middle;'></progress>\n",
       "      [1880/1880 23:48, Epoch 5/5]\n",
       "    </div>\n",
       "    <table border=\"1\" class=\"dataframe\">\n",
       "  <thead>\n",
       " <tr style=\"text-align: left;\">\n",
       "      <th>Step</th>\n",
       "      <th>Training Loss</th>\n",
       "    </tr>\n",
       "  </thead>\n",
       "  <tbody>\n",
       "    <tr>\n",
       "      <td>200</td>\n",
       "      <td>0.229500</td>\n",
       "    </tr>\n",
       "    <tr>\n",
       "      <td>400</td>\n",
       "      <td>0.166300</td>\n",
       "    </tr>\n",
       "    <tr>\n",
       "      <td>600</td>\n",
       "      <td>0.130300</td>\n",
       "    </tr>\n",
       "    <tr>\n",
       "      <td>800</td>\n",
       "      <td>0.118400</td>\n",
       "    </tr>\n",
       "    <tr>\n",
       "      <td>1000</td>\n",
       "      <td>0.090200</td>\n",
       "    </tr>\n",
       "    <tr>\n",
       "      <td>1200</td>\n",
       "      <td>0.077700</td>\n",
       "    </tr>\n",
       "    <tr>\n",
       "      <td>1400</td>\n",
       "      <td>0.060300</td>\n",
       "    </tr>\n",
       "    <tr>\n",
       "      <td>1600</td>\n",
       "      <td>0.048800</td>\n",
       "    </tr>\n",
       "    <tr>\n",
       "      <td>1800</td>\n",
       "      <td>0.041900</td>\n",
       "    </tr>\n",
       "  </tbody>\n",
       "</table><p>"
      ],
      "text/plain": [
       "<IPython.core.display.HTML object>"
      ]
     },
     "metadata": {},
     "output_type": "display_data"
    },
    {
     "data": {
      "text/html": [],
      "text/plain": [
       "<IPython.core.display.HTML object>"
      ]
     },
     "metadata": {},
     "output_type": "display_data"
    },
    {
     "name": "stdout",
     "output_type": "stream",
     "text": [
      "[[5261  142  145]\n",
      " [ 191  176   77]\n",
      " [ 206   88  394]]\n",
      "F1 - micro: 0.8729041916167665\n",
      "F1 - macro: 0.6524577987780815\n",
      "              precision    recall  f1-score   support\n",
      "\n",
      "       CLEAN       0.93      0.95      0.94      5548\n",
      "   OFFENSIVE       0.43      0.40      0.41       444\n",
      "        HATE       0.64      0.57      0.60       688\n",
      "\n",
      "    accuracy                           0.87      6680\n",
      "   macro avg       0.67      0.64      0.65      6680\n",
      "weighted avg       0.87      0.87      0.87      6680\n",
      "\n"
     ]
    },
    {
     "data": {
      "image/png": "[encoded data removed]",
      "text/plain": [
       "<Figure size 800x800 with 1 Axes>"
      ]
     },
     "metadata": {},
     "output_type": "display_data"
    },
    {
     "data": {
      "text/plain": [
       "<__main__.CustomTrainer at 0x7caa0e115850>"
      ]
     },
     "execution_count": 16,
     "metadata": {},
     "output_type": "execute_result"
    }
   ],
   "source": [
    "train(\n",
    "    dataset=dataset,\n",
    "    model_name='vinai/phobert-base',\n",
    "    max_length=128,\n",
    "    batch_size=64,\n",
    "    num_epochs=5,\n",
    "    learning_rate=5e-5,\n",
    "    preprocess_methods=['1', '2'],\n",
    "    normalize=True,\n",
    "    output_dir='./results/phobert/1-2-norm-no_aug',\n",
    "    device='cuda' if torch.cuda.is_available() else 'cpu',\n",
    ")"
   ]
  },
  {
   "cell_type": "markdown",
   "metadata": {},
   "source": [
    "## PhoBERT - 1 + 3 + Normalize - No Augmented Data"
   ]
  },
  {
   "cell_type": "code",
   "execution_count": 15,
   "metadata": {
    "execution": {
     "iopub.execute_input": "2025-06-29T14:12:44.758171Z",
     "iopub.status.busy": "2025-06-29T14:12:44.757885Z",
     "iopub.status.idle": "2025-06-29T14:37:32.717584Z",
     "shell.execute_reply": "2025-06-29T14:37:32.716863Z",
     "shell.execute_reply.started": "2025-06-29T14:12:44.758153Z"
    },
    "trusted": true
   },
   "outputs": [
    {
     "name": "stderr",
     "output_type": "stream",
     "text": [
      "Some weights of RobertaForSequenceClassification were not initialized from the model checkpoint at vinai/phobert-base and are newly initialized: ['classifier.dense.bias', 'classifier.dense.weight', 'classifier.out_proj.bias', 'classifier.out_proj.weight']\n",
      "You should probably TRAIN this model on a down-stream task to be able to use it for predictions and inference.\n"
     ]
    },
    {
     "data": {
      "text/html": [
       "\n",
       "    <div>\n",
       "      \n",
       "      <progress value='1880' max='1880' style='width:300px; height:20px; vertical-align: middle;'></progress>\n",
       "      [1880/1880 23:38, Epoch 5/5]\n",
       "    </div>\n",
       "    <table border=\"1\" class=\"dataframe\">\n",
       "  <thead>\n",
       " <tr style=\"text-align: left;\">\n",
       "      <th>Step</th>\n",
       "      <th>Training Loss</th>\n",
       "    </tr>\n",
       "  </thead>\n",
       "  <tbody>\n",
       "    <tr>\n",
       "      <td>200</td>\n",
       "      <td>0.223300</td>\n",
       "    </tr>\n",
       "    <tr>\n",
       "      <td>400</td>\n",
       "      <td>0.160500</td>\n",
       "    </tr>\n",
       "    <tr>\n",
       "      <td>600</td>\n",
       "      <td>0.124000</td>\n",
       "    </tr>\n",
       "    <tr>\n",
       "      <td>800</td>\n",
       "      <td>0.113900</td>\n",
       "    </tr>\n",
       "    <tr>\n",
       "      <td>1000</td>\n",
       "      <td>0.085400</td>\n",
       "    </tr>\n",
       "    <tr>\n",
       "      <td>1200</td>\n",
       "      <td>0.073400</td>\n",
       "    </tr>\n",
       "    <tr>\n",
       "      <td>1400</td>\n",
       "      <td>0.055200</td>\n",
       "    </tr>\n",
       "    <tr>\n",
       "      <td>1600</td>\n",
       "      <td>0.043400</td>\n",
       "    </tr>\n",
       "    <tr>\n",
       "      <td>1800</td>\n",
       "      <td>0.035900</td>\n",
       "    </tr>\n",
       "  </tbody>\n",
       "</table><p>"
      ],
      "text/plain": [
       "<IPython.core.display.HTML object>"
      ]
     },
     "metadata": {},
     "output_type": "display_data"
    },
    {
     "data": {
      "text/html": [],
      "text/plain": [
       "<IPython.core.display.HTML object>"
      ]
     },
     "metadata": {},
     "output_type": "display_data"
    },
    {
     "name": "stdout",
     "output_type": "stream",
     "text": [
      "[[5276  155  117]\n",
      " [ 188  182   74]\n",
      " [ 237   85  366]]\n",
      "F1 - micro: 0.8718562874251496\n",
      "F1 - macro: 0.6487713565528005\n",
      "              precision    recall  f1-score   support\n",
      "\n",
      "       CLEAN       0.93      0.95      0.94      5548\n",
      "   OFFENSIVE       0.43      0.41      0.42       444\n",
      "        HATE       0.66      0.53      0.59       688\n",
      "\n",
      "    accuracy                           0.87      6680\n",
      "   macro avg       0.67      0.63      0.65      6680\n",
      "weighted avg       0.86      0.87      0.87      6680\n",
      "\n"
     ]
    },
    {
     "data": {
      "image/png": "[encoded data removed]",
      "text/plain": [
       "<Figure size 800x800 with 1 Axes>"
      ]
     },
     "metadata": {},
     "output_type": "display_data"
    },
    {
     "data": {
      "text/plain": [
       "<__main__.CustomTrainer at 0x7dc7e15ccd10>"
      ]
     },
     "execution_count": 15,
     "metadata": {},
     "output_type": "execute_result"
    }
   ],
   "source": [
    "train(\n",
    "    dataset=dataset,\n",
    "    model_name='vinai/phobert-base',\n",
    "    max_length=128,\n",
    "    batch_size=64,\n",
    "    num_epochs=5,\n",
    "    learning_rate=5e-5,\n",
    "    preprocess_methods=['1', '3'],\n",
    "    normalize=True,\n",
    "    output_dir='./results/phobert/1-3-norm-no_aug',\n",
    "    device='cuda' if torch.cuda.is_available() else 'cpu',\n",
    ")"
   ]
  },
  {
   "cell_type": "markdown",
   "metadata": {},
   "source": [
    "## PhoBERT - 1 + 2 + 3 + Normalize - No Augmented Data"
   ]
  },
  {
   "cell_type": "code",
   "execution_count": 17,
   "metadata": {
    "execution": {
     "iopub.execute_input": "2025-06-29T18:53:14.489539Z",
     "iopub.status.busy": "2025-06-29T18:53:14.489321Z",
     "iopub.status.idle": "2025-06-29T19:18:10.223483Z",
     "shell.execute_reply": "2025-06-29T19:18:10.222712Z",
     "shell.execute_reply.started": "2025-06-29T18:53:14.489523Z"
    },
    "trusted": true
   },
   "outputs": [
    {
     "name": "stderr",
     "output_type": "stream",
     "text": [
      "Some weights of RobertaForSequenceClassification were not initialized from the model checkpoint at vinai/phobert-base and are newly initialized: ['classifier.dense.bias', 'classifier.dense.weight', 'classifier.out_proj.bias', 'classifier.out_proj.weight']\n",
      "You should probably TRAIN this model on a down-stream task to be able to use it for predictions and inference.\n"
     ]
    },
    {
     "data": {
      "text/html": [
       "\n",
       "    <div>\n",
       "      \n",
       "      <progress value='1880' max='1880' style='width:300px; height:20px; vertical-align: middle;'></progress>\n",
       "      [1880/1880 23:45, Epoch 5/5]\n",
       "    </div>\n",
       "    <table border=\"1\" class=\"dataframe\">\n",
       "  <thead>\n",
       " <tr style=\"text-align: left;\">\n",
       "      <th>Step</th>\n",
       "      <th>Training Loss</th>\n",
       "    </tr>\n",
       "  </thead>\n",
       "  <tbody>\n",
       "    <tr>\n",
       "      <td>200</td>\n",
       "      <td>0.224600</td>\n",
       "    </tr>\n",
       "    <tr>\n",
       "      <td>400</td>\n",
       "      <td>0.158200</td>\n",
       "    </tr>\n",
       "    <tr>\n",
       "      <td>600</td>\n",
       "      <td>0.124900</td>\n",
       "    </tr>\n",
       "    <tr>\n",
       "      <td>800</td>\n",
       "      <td>0.113800</td>\n",
       "    </tr>\n",
       "    <tr>\n",
       "      <td>1000</td>\n",
       "      <td>0.086300</td>\n",
       "    </tr>\n",
       "    <tr>\n",
       "      <td>1200</td>\n",
       "      <td>0.073700</td>\n",
       "    </tr>\n",
       "    <tr>\n",
       "      <td>1400</td>\n",
       "      <td>0.055500</td>\n",
       "    </tr>\n",
       "    <tr>\n",
       "      <td>1600</td>\n",
       "      <td>0.043800</td>\n",
       "    </tr>\n",
       "    <tr>\n",
       "      <td>1800</td>\n",
       "      <td>0.035600</td>\n",
       "    </tr>\n",
       "  </tbody>\n",
       "</table><p>"
      ],
      "text/plain": [
       "<IPython.core.display.HTML object>"
      ]
     },
     "metadata": {},
     "output_type": "display_data"
    },
    {
     "data": {
      "text/html": [],
      "text/plain": [
       "<IPython.core.display.HTML object>"
      ]
     },
     "metadata": {},
     "output_type": "display_data"
    },
    {
     "name": "stdout",
     "output_type": "stream",
     "text": [
      "[[5273  138  137]\n",
      " [ 194  176   74]\n",
      " [ 210   86  392]]\n",
      "F1 - micro: 0.8744011976047904\n",
      "F1 - macro: 0.654617603675999\n",
      "              precision    recall  f1-score   support\n",
      "\n",
      "       CLEAN       0.93      0.95      0.94      5548\n",
      "   OFFENSIVE       0.44      0.40      0.42       444\n",
      "        HATE       0.65      0.57      0.61       688\n",
      "\n",
      "    accuracy                           0.87      6680\n",
      "   macro avg       0.67      0.64      0.65      6680\n",
      "weighted avg       0.87      0.87      0.87      6680\n",
      "\n"
     ]
    },
    {
     "data": {
      "image/png": "[encoded data removed]",
      "text/plain": [
       "<Figure size 800x800 with 1 Axes>"
      ]
     },
     "metadata": {},
     "output_type": "display_data"
    },
    {
     "data": {
      "text/plain": [
       "<__main__.CustomTrainer at 0x7ca7ed6ad850>"
      ]
     },
     "execution_count": 17,
     "metadata": {},
     "output_type": "execute_result"
    }
   ],
   "source": [
    "train(\n",
    "    dataset=dataset,\n",
    "    model_name='vinai/phobert-base',\n",
    "    max_length=128,\n",
    "    batch_size=64,\n",
    "    num_epochs=5,\n",
    "    learning_rate=5e-5,\n",
    "    preprocess_methods=['1', '2', '3'],\n",
    "    normalize=True,\n",
    "    output_dir='./results/phobert/1-2-3-norm-no_aug',\n",
    "    device='cuda' if torch.cuda.is_available() else 'cpu',\n",
    ")"
   ]
  },
  {
   "cell_type": "markdown",
   "metadata": {},
   "source": [
    "## PhoBERT - 1 + 2 + 3 + Normalize - EDA Augmented Data"
   ]
  },
  {
   "cell_type": "code",
   "execution_count": 20,
   "metadata": {
    "execution": {
     "iopub.execute_input": "2025-06-29T23:34:30.153838Z",
     "iopub.status.busy": "2025-06-29T23:34:30.153289Z",
     "iopub.status.idle": "2025-06-30T00:09:34.563948Z",
     "shell.execute_reply": "2025-06-30T00:09:34.563347Z",
     "shell.execute_reply.started": "2025-06-29T23:34:30.153815Z"
    },
    "trusted": true
   },
   "outputs": [
    {
     "name": "stderr",
     "output_type": "stream",
     "text": [
      "Some weights of RobertaForSequenceClassification were not initialized from the model checkpoint at vinai/phobert-base and are newly initialized: ['classifier.dense.bias', 'classifier.dense.weight', 'classifier.out_proj.bias', 'classifier.out_proj.weight']\n",
      "You should probably TRAIN this model on a down-stream task to be able to use it for predictions and inference.\n"
     ]
    },
    {
     "data": {
      "text/html": [
       "\n",
       "    <div>\n",
       "      \n",
       "      <progress value='2680' max='2680' style='width:300px; height:20px; vertical-align: middle;'></progress>\n",
       "      [2680/2680 33:36, Epoch 5/5]\n",
       "    </div>\n",
       "    <table border=\"1\" class=\"dataframe\">\n",
       "  <thead>\n",
       " <tr style=\"text-align: left;\">\n",
       "      <th>Step</th>\n",
       "      <th>Training Loss</th>\n",
       "    </tr>\n",
       "  </thead>\n",
       "  <tbody>\n",
       "    <tr>\n",
       "      <td>200</td>\n",
       "      <td>0.317800</td>\n",
       "    </tr>\n",
       "    <tr>\n",
       "      <td>400</td>\n",
       "      <td>0.221100</td>\n",
       "    </tr>\n",
       "    <tr>\n",
       "      <td>600</td>\n",
       "      <td>0.179400</td>\n",
       "    </tr>\n",
       "    <tr>\n",
       "      <td>800</td>\n",
       "      <td>0.134600</td>\n",
       "    </tr>\n",
       "    <tr>\n",
       "      <td>1000</td>\n",
       "      <td>0.118100</td>\n",
       "    </tr>\n",
       "    <tr>\n",
       "      <td>1200</td>\n",
       "      <td>0.081200</td>\n",
       "    </tr>\n",
       "    <tr>\n",
       "      <td>1400</td>\n",
       "      <td>0.064900</td>\n",
       "    </tr>\n",
       "    <tr>\n",
       "      <td>1600</td>\n",
       "      <td>0.063700</td>\n",
       "    </tr>\n",
       "    <tr>\n",
       "      <td>1800</td>\n",
       "      <td>0.035500</td>\n",
       "    </tr>\n",
       "    <tr>\n",
       "      <td>2000</td>\n",
       "      <td>0.039000</td>\n",
       "    </tr>\n",
       "    <tr>\n",
       "      <td>2200</td>\n",
       "      <td>0.031900</td>\n",
       "    </tr>\n",
       "    <tr>\n",
       "      <td>2400</td>\n",
       "      <td>0.020400</td>\n",
       "    </tr>\n",
       "    <tr>\n",
       "      <td>2600</td>\n",
       "      <td>0.022800</td>\n",
       "    </tr>\n",
       "  </tbody>\n",
       "</table><p>"
      ],
      "text/plain": [
       "<IPython.core.display.HTML object>"
      ]
     },
     "metadata": {},
     "output_type": "display_data"
    },
    {
     "data": {
      "text/html": [],
      "text/plain": [
       "<IPython.core.display.HTML object>"
      ]
     },
     "metadata": {},
     "output_type": "display_data"
    },
    {
     "name": "stdout",
     "output_type": "stream",
     "text": [
      "[[5280  130  138]\n",
      " [ 218  152   74]\n",
      " [ 277   50  361]]\n",
      "F1 - micro: 0.8672155688622755\n",
      "F1 - macro: 0.6323096892770333\n",
      "              precision    recall  f1-score   support\n",
      "\n",
      "       CLEAN       0.91      0.95      0.93      5548\n",
      "   OFFENSIVE       0.46      0.34      0.39       444\n",
      "        HATE       0.63      0.52      0.57       688\n",
      "\n",
      "    accuracy                           0.87      6680\n",
      "   macro avg       0.67      0.61      0.63      6680\n",
      "weighted avg       0.85      0.87      0.86      6680\n",
      "\n"
     ]
    },
    {
     "data": {
      "image/png": "[encoded data removed]",
      "text/plain": [
       "<Figure size 800x800 with 1 Axes>"
      ]
     },
     "metadata": {},
     "output_type": "display_data"
    },
    {
     "data": {
      "text/plain": [
       "<__main__.CustomTrainer at 0x7c5b34c394d0>"
      ]
     },
     "execution_count": 20,
     "metadata": {},
     "output_type": "execute_result"
    }
   ],
   "source": [
    "train(\n",
    "    dataset=eda_dataset,\n",
    "    model_name='vinai/phobert-base',\n",
    "    max_length=128,\n",
    "    batch_size=64,\n",
    "    num_epochs=5,\n",
    "    learning_rate=5e-5,\n",
    "    preprocess_methods=['1', '2', '3'],\n",
    "    normalize=True,\n",
    "    output_dir='./results/phobert/1-2-3-norm-eda_data',\n",
    "    device='cuda' if torch.cuda.is_available() else 'cpu',\n",
    ")"
   ]
  },
  {
   "cell_type": "markdown",
   "metadata": {},
   "source": [
    "## PhoBERT - 1 + 2 + 3 + Normalize - LLM Augmented Data"
   ]
  },
  {
   "cell_type": "code",
   "execution_count": 21,
   "metadata": {
    "execution": {
     "iopub.execute_input": "2025-06-30T00:10:07.441214Z",
     "iopub.status.busy": "2025-06-30T00:10:07.440371Z",
     "iopub.status.idle": "2025-06-30T00:45:00.261895Z",
     "shell.execute_reply": "2025-06-30T00:45:00.261035Z",
     "shell.execute_reply.started": "2025-06-30T00:10:07.441177Z"
    },
    "trusted": true
   },
   "outputs": [
    {
     "name": "stderr",
     "output_type": "stream",
     "text": [
      "Some weights of RobertaForSequenceClassification were not initialized from the model checkpoint at vinai/phobert-base and are newly initialized: ['classifier.dense.bias', 'classifier.dense.weight', 'classifier.out_proj.bias', 'classifier.out_proj.weight']\n",
      "You should probably TRAIN this model on a down-stream task to be able to use it for predictions and inference.\n"
     ]
    },
    {
     "data": {
      "text/html": [
       "\n",
       "    <div>\n",
       "      \n",
       "      <progress value='2660' max='2660' style='width:300px; height:20px; vertical-align: middle;'></progress>\n",
       "      [2660/2660 33:31, Epoch 5/5]\n",
       "    </div>\n",
       "    <table border=\"1\" class=\"dataframe\">\n",
       "  <thead>\n",
       " <tr style=\"text-align: left;\">\n",
       "      <th>Step</th>\n",
       "      <th>Training Loss</th>\n",
       "    </tr>\n",
       "  </thead>\n",
       "  <tbody>\n",
       "    <tr>\n",
       "      <td>200</td>\n",
       "      <td>0.247700</td>\n",
       "    </tr>\n",
       "    <tr>\n",
       "      <td>400</td>\n",
       "      <td>0.153200</td>\n",
       "    </tr>\n",
       "    <tr>\n",
       "      <td>600</td>\n",
       "      <td>0.133100</td>\n",
       "    </tr>\n",
       "    <tr>\n",
       "      <td>800</td>\n",
       "      <td>0.107700</td>\n",
       "    </tr>\n",
       "    <tr>\n",
       "      <td>1000</td>\n",
       "      <td>0.110400</td>\n",
       "    </tr>\n",
       "    <tr>\n",
       "      <td>1200</td>\n",
       "      <td>0.083200</td>\n",
       "    </tr>\n",
       "    <tr>\n",
       "      <td>1400</td>\n",
       "      <td>0.075500</td>\n",
       "    </tr>\n",
       "    <tr>\n",
       "      <td>1600</td>\n",
       "      <td>0.072700</td>\n",
       "    </tr>\n",
       "    <tr>\n",
       "      <td>1800</td>\n",
       "      <td>0.048000</td>\n",
       "    </tr>\n",
       "    <tr>\n",
       "      <td>2000</td>\n",
       "      <td>0.048900</td>\n",
       "    </tr>\n",
       "    <tr>\n",
       "      <td>2200</td>\n",
       "      <td>0.040700</td>\n",
       "    </tr>\n",
       "    <tr>\n",
       "      <td>2400</td>\n",
       "      <td>0.030400</td>\n",
       "    </tr>\n",
       "    <tr>\n",
       "      <td>2600</td>\n",
       "      <td>0.031100</td>\n",
       "    </tr>\n",
       "  </tbody>\n",
       "</table><p>"
      ],
      "text/plain": [
       "<IPython.core.display.HTML object>"
      ]
     },
     "metadata": {},
     "output_type": "display_data"
    },
    {
     "data": {
      "text/html": [],
      "text/plain": [
       "<IPython.core.display.HTML object>"
      ]
     },
     "metadata": {},
     "output_type": "display_data"
    },
    {
     "name": "stdout",
     "output_type": "stream",
     "text": [
      "[[5222  182  144]\n",
      " [ 178  194   72]\n",
      " [ 204  107  377]]\n",
      "F1 - micro: 0.8672155688622755\n",
      "F1 - macro: 0.6478902536085032\n",
      "              precision    recall  f1-score   support\n",
      "\n",
      "       CLEAN       0.93      0.94      0.94      5548\n",
      "   OFFENSIVE       0.40      0.44      0.42       444\n",
      "        HATE       0.64      0.55      0.59       688\n",
      "\n",
      "    accuracy                           0.87      6680\n",
      "   macro avg       0.66      0.64      0.65      6680\n",
      "weighted avg       0.87      0.87      0.87      6680\n",
      "\n"
     ]
    },
    {
     "data": {
      "image/png": "[encoded data removed]",
      "text/plain": [
       "<Figure size 800x800 with 1 Axes>"
      ]
     },
     "metadata": {},
     "output_type": "display_data"
    },
    {
     "data": {
      "text/plain": [
       "<__main__.CustomTrainer at 0x7c5d2cca14d0>"
      ]
     },
     "execution_count": 21,
     "metadata": {},
     "output_type": "execute_result"
    }
   ],
   "source": [
    "train(\n",
    "    dataset=llm_dataset,\n",
    "    model_name='vinai/phobert-base',\n",
    "    max_length=128,\n",
    "    batch_size=64,\n",
    "    num_epochs=5,\n",
    "    learning_rate=5e-5,\n",
    "    preprocess_methods=['1', '2', '3'],\n",
    "    normalize=True,\n",
    "    output_dir='./results/phobert/1-2-3-norm-llm_data',\n",
    "    device='cuda' if torch.cuda.is_available() else 'cpu',\n",
    ")"
   ]
  }
 ],
 "metadata": {
  "kaggle": {
   "accelerator": "gpu",
   "dataSources": [
    {
     "datasetId": 7765102,
     "sourceId": 12319209,
     "sourceType": "datasetVersion"
    }
   ],
   "isGpuEnabled": true,
   "isInternetEnabled": true,
   "language": "python",
   "sourceType": "notebook"
  },
  "kernelspec": {
   "display_name": ".venv",
   "language": "python",
   "name": "python3"
  },
  "language_info": {
   "codemirror_mode": {
    "name": "ipython",
    "version": 3
   },
   "file_extension": ".py",
   "mimetype": "text/x-python",
   "name": "python",
   "nbconvert_exporter": "python",
   "pygments_lexer": "ipython3",
   "version": "3.12.3"
  }
 },
 "nbformat": 4,
 "nbformat_minor": 4
}
