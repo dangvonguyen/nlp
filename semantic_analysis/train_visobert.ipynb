{
 "cells": [
  {
   "cell_type": "code",
   "execution_count": 2,
   "metadata": {
    "execution": {
     "iopub.execute_input": "2025-06-29T23:27:33.579307Z",
     "iopub.status.busy": "2025-06-29T23:27:33.578993Z",
     "iopub.status.idle": "2025-06-29T23:28:03.578835Z",
     "shell.execute_reply": "2025-06-29T23:28:03.578047Z",
     "shell.execute_reply.started": "2025-06-29T23:27:33.579273Z"
    },
    "trusted": true
   },
   "outputs": [],
   "source": [
    "import re\n",
    "import time\n",
    "\n",
    "import matplotlib.pyplot as plt\n",
    "import numpy as np\n",
    "import pandas as pd\n",
    "import seaborn as sns\n",
    "import torch\n",
    "import torch.nn as nn\n",
    "import torch.nn.functional as F\n",
    "from datasets import Dataset, DatasetDict, load_dataset\n",
    "from sklearn.metrics import classification_report, confusion_matrix, f1_score\n",
    "from transformers import (\n",
    "    AutoModelForSequenceClassification,\n",
    "    AutoTokenizer,\n",
    "    Trainer,\n",
    "    TrainingArguments,\n",
    ")"
   ]
  },
  {
   "cell_type": "markdown",
   "metadata": {},
   "source": [
    "## Data loader"
   ]
  },
  {
   "cell_type": "code",
   "execution_count": 3,
   "metadata": {
    "execution": {
     "iopub.execute_input": "2025-06-29T23:28:03.580473Z",
     "iopub.status.busy": "2025-06-29T23:28:03.579725Z",
     "iopub.status.idle": "2025-06-29T23:28:07.370296Z",
     "shell.execute_reply": "2025-06-29T23:28:07.369673Z",
     "shell.execute_reply.started": "2025-06-29T23:28:03.580446Z"
    },
    "trusted": true
   },
   "outputs": [
    {
     "data": {
      "text/plain": [
       "DatasetDict({\n",
       "    train: Dataset({\n",
       "        features: ['free_text', 'label_id'],\n",
       "        num_rows: 24048\n",
       "    })\n",
       "    validation: Dataset({\n",
       "        features: ['free_text', 'label_id'],\n",
       "        num_rows: 2672\n",
       "    })\n",
       "    test: Dataset({\n",
       "        features: ['free_text', 'label_id'],\n",
       "        num_rows: 6680\n",
       "    })\n",
       "})"
      ]
     },
     "execution_count": 3,
     "metadata": {},
     "output_type": "execute_result"
    }
   ],
   "source": [
    "dataset: DatasetDict = load_dataset(\"sonlam1102/vihsd\")\n",
    "\n",
    "train = pd.DataFrame(dataset['train'])\n",
    "\n",
    "dataset"
   ]
  },
  {
   "cell_type": "code",
   "execution_count": 6,
   "metadata": {
    "execution": {
     "iopub.execute_input": "2025-06-29T23:28:07.372691Z",
     "iopub.status.busy": "2025-06-29T23:28:07.372493Z",
     "iopub.status.idle": "2025-06-29T23:28:07.456554Z",
     "shell.execute_reply": "2025-06-29T23:28:07.455783Z",
     "shell.execute_reply.started": "2025-06-29T23:28:07.372676Z"
    },
    "trusted": true
   },
   "outputs": [
    {
     "data": {
      "text/plain": [
       "DatasetDict({\n",
       "    train: Dataset({\n",
       "        features: ['free_text', 'label_id'],\n",
       "        num_rows: 34290\n",
       "    })\n",
       "    validation: Dataset({\n",
       "        features: ['free_text', 'label_id'],\n",
       "        num_rows: 2672\n",
       "    })\n",
       "    test: Dataset({\n",
       "        features: ['free_text', 'label_id'],\n",
       "        num_rows: 6680\n",
       "    })\n",
       "})"
      ]
     },
     "execution_count": 6,
     "metadata": {},
     "output_type": "execute_result"
    }
   ],
   "source": [
    "# Load augmented eda data\n",
    "aug_eda_offensive = pd.read_csv('data/aug_eda_offensive.csv', sep='|')\n",
    "aug_eda_hate = pd.read_csv('data/aug_eda_hate.csv', sep='|')\n",
    "\n",
    "# Add to train in dataset\n",
    "eda_dataset = DatasetDict(dataset)\n",
    "eda_dataset['train'] = Dataset.from_pandas(\n",
    "    pd.concat([train, aug_eda_offensive, aug_eda_hate], ignore_index=True)\n",
    ")\n",
    "eda_dataset"
   ]
  },
  {
   "cell_type": "code",
   "execution_count": 7,
   "metadata": {
    "execution": {
     "iopub.execute_input": "2025-06-29T23:28:07.457607Z",
     "iopub.status.busy": "2025-06-29T23:28:07.457341Z",
     "iopub.status.idle": "2025-06-29T23:28:07.509869Z",
     "shell.execute_reply": "2025-06-29T23:28:07.509236Z",
     "shell.execute_reply.started": "2025-06-29T23:28:07.457589Z"
    },
    "trusted": true
   },
   "outputs": [
    {
     "data": {
      "text/plain": [
       "DatasetDict({\n",
       "    train: Dataset({\n",
       "        features: ['free_text', 'label_id'],\n",
       "        num_rows: 34048\n",
       "    })\n",
       "    validation: Dataset({\n",
       "        features: ['free_text', 'label_id'],\n",
       "        num_rows: 2672\n",
       "    })\n",
       "    test: Dataset({\n",
       "        features: ['free_text', 'label_id'],\n",
       "        num_rows: 6680\n",
       "    })\n",
       "})"
      ]
     },
     "execution_count": 7,
     "metadata": {},
     "output_type": "execute_result"
    }
   ],
   "source": [
    "# Load augmented llm data\n",
    "aug_llm_offensive = pd.read_csv('data/aug_llm_offensive.csv', sep='|')\n",
    "aug_llm_hate = pd.read_csv('data/aug_llm_hate.csv', sep='|')\n",
    "\n",
    "# Add to train in dataset\n",
    "llm_dataset = DatasetDict(dataset)\n",
    "llm_dataset['train'] = Dataset.from_pandas(\n",
    "    pd.concat([train, aug_llm_offensive, aug_llm_hate], ignore_index=True)\n",
    ")\n",
    "llm_dataset"
   ]
  },
  {
   "cell_type": "markdown",
   "metadata": {},
   "source": [
    "## Preprocessing"
   ]
  },
  {
   "cell_type": "code",
   "execution_count": 3,
   "metadata": {
    "execution": {
     "iopub.execute_input": "2025-06-29T23:28:07.687918Z",
     "iopub.status.busy": "2025-06-29T23:28:07.687696Z",
     "iopub.status.idle": "2025-06-29T23:28:07.703630Z",
     "shell.execute_reply": "2025-06-29T23:28:07.702957Z",
     "shell.execute_reply.started": "2025-06-29T23:28:07.687895Z"
    },
    "trusted": true
   },
   "outputs": [],
   "source": [
    "EMOTICON_PATH = 'data/convert/emoticon.txt'\n",
    "TEENCODE_PATH = 'data/convert/teencode.txt'"
   ]
  },
  {
   "cell_type": "code",
   "execution_count": 4,
   "metadata": {
    "execution": {
     "iopub.execute_input": "2025-06-29T23:28:07.704582Z",
     "iopub.status.busy": "2025-06-29T23:28:07.704398Z",
     "iopub.status.idle": "2025-06-29T23:28:07.724006Z",
     "shell.execute_reply": "2025-06-29T23:28:07.723414Z",
     "shell.execute_reply.started": "2025-06-29T23:28:07.704568Z"
    },
    "trusted": true
   },
   "outputs": [],
   "source": [
    "# Technique 1: Standardizing words\n",
    "def remove_character(text: str) -> str:\n",
    "    \"\"\"Standardize text by removing consecutive characters.\"\"\"\n",
    "    return re.sub(r'(.)\\1+', r'\\1', text)\n",
    "\n",
    "\n",
    "# Technique 2: Converting emoticons to emojis\n",
    "emoticon_df = pd.read_csv(EMOTICON_PATH, sep='|', header=None)\n",
    "emoticon_data = dict(zip(emoticon_df[0], emoticon_df[1]))\n",
    "\n",
    "def convert_emoticon(text: str) -> str:\n",
    "    \"\"\"Convert emoticon to emoji.\"\"\"\n",
    "    for k, v in emoticon_data.items():\n",
    "        text = re.sub(re.escape(k), f' {v} ', text)\n",
    "    return text\n",
    "\n",
    "\n",
    "# Technique 3: Convert teencode to complete word\n",
    "teencode_df = pd.read_csv(TEENCODE_PATH, sep='|', header=None)\n",
    "teencode_data = dict(zip(teencode_df[0], teencode_df[1]))\n",
    "\n",
    "def convert_teencode(text: str) -> str:\n",
    "    \"\"\"Convert teencode to complete word.\"\"\"\n",
    "    for k, v in teencode_data.items():\n",
    "        text = re.sub(rf'\\b{re.escape(k)}\\b', f' {v} ', text)\n",
    "    return text\n",
    "\n",
    "\n",
    "# Normalize text\n",
    "emoji_pattern = (\n",
    "    r'['\n",
    "    '\\U0001f600-\\U0001f64f'\n",
    "    '\\U0001f300-\\U0001f5ff'\n",
    "    '\\U0001f680-\\U0001f6ff'\n",
    "    '\\U0001f1e0-\\U0001f1ff'\n",
    "    '\\U00002600-\\U000026ff'\n",
    "    '\\U00002700-\\U000027bf'\n",
    "    ']+'\n",
    ")\n",
    "tokenize_pattern = re.compile(r'\\w+|' + emoji_pattern + r'|[^\\s\\w]+')\n",
    "\n",
    "\n",
    "def normalize_text(text: str) -> str:\n",
    "    \"\"\"Normalize text with consistent spacing between tokens.\"\"\"\n",
    "    return ' '.join(tokenize_pattern.findall(text))"
   ]
  },
  {
   "cell_type": "code",
   "execution_count": 13,
   "metadata": {
    "execution": {
     "iopub.execute_input": "2025-06-29T23:28:07.725027Z",
     "iopub.status.busy": "2025-06-29T23:28:07.724758Z",
     "iopub.status.idle": "2025-06-29T23:28:07.732865Z",
     "shell.execute_reply": "2025-06-29T23:28:07.732325Z",
     "shell.execute_reply.started": "2025-06-29T23:28:07.725006Z"
    },
    "trusted": true
   },
   "outputs": [],
   "source": [
    "preprocess_methods = {\n",
    "    '1': remove_character,\n",
    "    '2': convert_emoticon,\n",
    "    '3': convert_teencode,\n",
    "}\n",
    "\n",
    "def preprocess_text(text: str, methods: list[str], normalize: bool = False) -> str:\n",
    "    text = str(text)\n",
    "\n",
    "    for method in methods:\n",
    "        text = preprocess_methods[method](text)\n",
    "\n",
    "    if normalize:\n",
    "        text = normalize_text(text)\n",
    "\n",
    "    return text"
   ]
  },
  {
   "cell_type": "markdown",
   "metadata": {},
   "source": [
    "## Model"
   ]
  },
  {
   "cell_type": "code",
   "execution_count": 14,
   "metadata": {
    "execution": {
     "iopub.execute_input": "2025-06-29T23:28:07.733788Z",
     "iopub.status.busy": "2025-06-29T23:28:07.733591Z",
     "iopub.status.idle": "2025-06-29T23:28:07.753485Z",
     "shell.execute_reply": "2025-06-29T23:28:07.752809Z",
     "shell.execute_reply.started": "2025-06-29T23:28:07.733767Z"
    },
    "trusted": true
   },
   "outputs": [],
   "source": [
    "class FocalLoss(nn.Module):\n",
    "    def __init__(self, gamma=2, weight=None, ignore_index=-100) -> None:\n",
    "        super().__init__()\n",
    "        self.gamma = gamma\n",
    "        self.weight = weight\n",
    "        self.ignore_index = ignore_index\n",
    "\n",
    "    def forward(self, inputs, targets):\n",
    "        logits = F.log_softmax(inputs, dim=1)\n",
    "        pt = torch.exp(logits)\n",
    "        logits = (1 - pt) ** self.gamma * logits\n",
    "        loss = F.nll_loss(logits, targets, weight=self.weight, ignore_index=self.ignore_index)\n",
    "        return loss\n",
    "\n",
    "    # def forward(self, inputs, targets):\n",
    "    #     ce_loss = F.cross_entropy(inputs, targets, weight=self.weight, ignore_index=self.ignore_index)\n",
    "    #     pt = torch.exp(-ce_loss)\n",
    "    #     loss = self.alpha * (1 - pt) ** self.gamma * ce_loss\n",
    "    #     return loss\n",
    "\n",
    "\n",
    "class CustomTrainer(Trainer):\n",
    "    def compute_loss(self, model, inputs, return_outputs=False, num_items_in_batch=None):\n",
    "        labels = inputs.get(\"labels\")\n",
    "        outputs = model(**inputs)\n",
    "        logits = outputs.get(\"logits\")\n",
    "        loss = FocalLoss()(logits, labels)\n",
    "        return (loss, outputs) if return_outputs else loss\n",
    "\n",
    "\n",
    "class CustomDataset(torch.utils.data.Dataset):\n",
    "    def __init__(self, texts, labels, tokenizer, max_length=128, preprocess_methods=[], normalize=False):\n",
    "        self.texts = texts\n",
    "        self.labels = labels\n",
    "        self.tokenizer = tokenizer\n",
    "        self.max_length = max_length\n",
    "        self.preprocess_methods = preprocess_methods\n",
    "        self.normalize = normalize\n",
    "\n",
    "        self.load_encodings()\n",
    "\n",
    "    def load_encodings(self):\n",
    "        self.encodings = []\n",
    "        for text in self.texts:\n",
    "            text = preprocess_text(text, self.preprocess_methods, self.normalize)\n",
    "            encoding = self.tokenizer(\n",
    "                text, padding='max_length', truncation=True, max_length=self.max_length\n",
    "            )\n",
    "            self.encodings.append(encoding)\n",
    "\n",
    "    def __len__(self):\n",
    "        return len(self.texts)\n",
    "\n",
    "    def __getitem__(self, idx):\n",
    "        encoding = self.encodings[idx]\n",
    "        label = self.labels[idx]\n",
    "\n",
    "        return {\n",
    "            'input_ids': torch.tensor(encoding['input_ids']),\n",
    "            'attention_mask': torch.tensor(encoding['attention_mask']),\n",
    "            'labels': torch.tensor(label),\n",
    "        }"
   ]
  },
  {
   "cell_type": "code",
   "execution_count": 15,
   "metadata": {
    "execution": {
     "iopub.execute_input": "2025-06-29T23:28:07.754971Z",
     "iopub.status.busy": "2025-06-29T23:28:07.754371Z",
     "iopub.status.idle": "2025-06-29T23:28:07.778876Z",
     "shell.execute_reply": "2025-06-29T23:28:07.778301Z",
     "shell.execute_reply.started": "2025-06-29T23:28:07.754955Z"
    },
    "trusted": true
   },
   "outputs": [],
   "source": [
    "def train(\n",
    "    dataset: DatasetDict,\n",
    "    model_name: str,\n",
    "    max_length: int = 128,\n",
    "    batch_size: int = 16,\n",
    "    num_epochs: int = 3,\n",
    "    learning_rate: float = 2e-5,\n",
    "    preprocess_methods: list[str] = [],\n",
    "    normalize: bool = False,\n",
    "    output_dir: str | None = None,\n",
    "    device: str = 'cpu',\n",
    ") -> Trainer:\n",
    "    if output_dir is None:\n",
    "        output_dir = f'./results/{time.strftime(\"%Y%m%d_%H%M%S\")}'\n",
    "\n",
    "    labels = ['CLEAN', 'OFFENSIVE', 'HATE']\n",
    "\n",
    "    tokenizer = AutoTokenizer.from_pretrained(model_name)\n",
    "    model = AutoModelForSequenceClassification.from_pretrained(model_name, num_labels=len(labels))\n",
    "\n",
    "    def get_ds(split: str) -> CustomDataset:\n",
    "        df = pd.DataFrame(dataset[split])\n",
    "        return CustomDataset(\n",
    "            df['free_text'],\n",
    "            df['label_id'],\n",
    "            tokenizer,\n",
    "            max_length,\n",
    "            preprocess_methods,\n",
    "            normalize,\n",
    "        )\n",
    "\n",
    "    train_ds = get_ds('train')\n",
    "    dev_ds = get_ds('validation')\n",
    "    test_ds = get_ds('test')\n",
    "\n",
    "    training_args = TrainingArguments(\n",
    "        output_dir=output_dir,\n",
    "        num_train_epochs=num_epochs,\n",
    "        per_device_train_batch_size=batch_size,\n",
    "        per_device_eval_batch_size=batch_size,\n",
    "        learning_rate=learning_rate,\n",
    "        warmup_steps=100,\n",
    "        weight_decay=0.01,\n",
    "        do_eval=True,\n",
    "        no_cuda=device == 'cpu',\n",
    "        logging_steps=200,\n",
    "        report_to=[],\n",
    "    )\n",
    "\n",
    "    trainer = CustomTrainer(\n",
    "        model=model,\n",
    "        args=training_args,\n",
    "        train_dataset=train_ds,\n",
    "        eval_dataset=dev_ds,\n",
    "    )\n",
    "\n",
    "    trainer.train()\n",
    "    trainer.save_model(output_dir)\n",
    "\n",
    "    y_pred_classify = trainer.predict(test_ds)\n",
    "\n",
    "    y_pred = np.argmax(y_pred_classify.predictions, axis=-1)\n",
    "    y_true = test_ds.labels\n",
    "\n",
    "    cm = confusion_matrix(y_true, y_pred)\n",
    "    print(cm)\n",
    "\n",
    "    f1_micro = f1_score(y_true, y_pred, average='micro')\n",
    "    print(f'F1 - micro: {f1_micro}')\n",
    "\n",
    "    f1_macro = f1_score(y_true, y_pred, average='macro')\n",
    "    print(f'F1 - macro: {f1_macro}')\n",
    "\n",
    "    report = classification_report(y_true, y_pred, target_names=labels)\n",
    "    print(report)\n",
    "\n",
    "    # Visualize confusion matrix\n",
    "    df_cm = pd.DataFrame(cm, index=labels, columns=labels)\n",
    "    plt.figure(figsize=(8, 8))\n",
    "    sns.heatmap(df_cm, annot=True, fmt='d', cmap='Blues', cbar=False)\n",
    "    plt.title('Confusion Matrix')\n",
    "    plt.xlabel('Predicted')\n",
    "    plt.ylabel('True') \n",
    "    plt.tight_layout()\n",
    "    plt.show()\n",
    "\n",
    "    return trainer"
   ]
  },
  {
   "cell_type": "markdown",
   "metadata": {},
   "source": [
    "## ViSoBERT - No Preprocessing - No Augmented Data"
   ]
  },
  {
   "cell_type": "code",
   "execution_count": 17,
   "metadata": {
    "collapsed": true,
    "execution": {
     "iopub.execute_input": "2025-06-29T12:23:42.370091Z",
     "iopub.status.busy": "2025-06-29T12:23:42.369796Z",
     "iopub.status.idle": "2025-06-29T12:47:41.485969Z",
     "shell.execute_reply": "2025-06-29T12:47:41.485175Z",
     "shell.execute_reply.started": "2025-06-29T12:23:42.370058Z"
    },
    "jupyter": {
     "outputs_hidden": true,
     "source_hidden": true
    },
    "trusted": true
   },
   "outputs": [
    {
     "name": "stderr",
     "output_type": "stream",
     "text": [
      "Some weights of XLMRobertaForSequenceClassification were not initialized from the model checkpoint at uitnlp/visobert and are newly initialized: ['classifier.dense.bias', 'classifier.dense.weight', 'classifier.out_proj.bias', 'classifier.out_proj.weight']\n",
      "You should probably TRAIN this model on a down-stream task to be able to use it for predictions and inference.\n"
     ]
    },
    {
     "data": {
      "text/html": [
       "\n",
       "    <div>\n",
       "      \n",
       "      <progress value='1880' max='1880' style='width:300px; height:20px; vertical-align: middle;'></progress>\n",
       "      [1880/1880 23:25, Epoch 5/5]\n",
       "    </div>\n",
       "    <table border=\"1\" class=\"dataframe\">\n",
       "  <thead>\n",
       " <tr style=\"text-align: left;\">\n",
       "      <th>Step</th>\n",
       "      <th>Training Loss</th>\n",
       "    </tr>\n",
       "  </thead>\n",
       "  <tbody>\n",
       "    <tr>\n",
       "      <td>200</td>\n",
       "      <td>0.179300</td>\n",
       "    </tr>\n",
       "    <tr>\n",
       "      <td>400</td>\n",
       "      <td>0.118300</td>\n",
       "    </tr>\n",
       "    <tr>\n",
       "      <td>600</td>\n",
       "      <td>0.070700</td>\n",
       "    </tr>\n",
       "    <tr>\n",
       "      <td>800</td>\n",
       "      <td>0.060500</td>\n",
       "    </tr>\n",
       "    <tr>\n",
       "      <td>1000</td>\n",
       "      <td>0.023100</td>\n",
       "    </tr>\n",
       "    <tr>\n",
       "      <td>1200</td>\n",
       "      <td>0.021200</td>\n",
       "    </tr>\n",
       "    <tr>\n",
       "      <td>1400</td>\n",
       "      <td>0.010900</td>\n",
       "    </tr>\n",
       "    <tr>\n",
       "      <td>1600</td>\n",
       "      <td>0.008800</td>\n",
       "    </tr>\n",
       "    <tr>\n",
       "      <td>1800</td>\n",
       "      <td>0.004900</td>\n",
       "    </tr>\n",
       "  </tbody>\n",
       "</table><p>"
      ],
      "text/plain": [
       "<IPython.core.display.HTML object>"
      ]
     },
     "metadata": {},
     "output_type": "display_data"
    },
    {
     "data": {
      "text/html": [],
      "text/plain": [
       "<IPython.core.display.HTML object>"
      ]
     },
     "metadata": {},
     "output_type": "display_data"
    },
    {
     "name": "stdout",
     "output_type": "stream",
     "text": [
      "[[5301  116  131]\n",
      " [ 185  189   70]\n",
      " [ 191   70  427]]\n",
      "F1 - micro: 0.8857784431137724\n",
      "F1 - macro: 0.6849911727218272\n",
      "              precision    recall  f1-score   support\n",
      "\n",
      "       CLEAN       0.93      0.96      0.94      5548\n",
      "   OFFENSIVE       0.50      0.43      0.46       444\n",
      "        HATE       0.68      0.62      0.65       688\n",
      "\n",
      "    accuracy                           0.89      6680\n",
      "   macro avg       0.71      0.67      0.68      6680\n",
      "weighted avg       0.88      0.89      0.88      6680\n",
      "\n"
     ]
    },
    {
     "data": {
      "image/png": "[encoded data removed]",
      "text/plain": [
       "<Figure size 800x800 with 1 Axes>"
      ]
     },
     "metadata": {},
     "output_type": "display_data"
    },
    {
     "data": {
      "text/plain": [
       "<__main__.CustomTrainer at 0x783e0c1314d0>"
      ]
     },
     "execution_count": 17,
     "metadata": {},
     "output_type": "execute_result"
    }
   ],
   "source": [
    "train(\n",
    "    dataset=dataset,\n",
    "    model_name='uitnlp/visobert',\n",
    "    max_length=128,\n",
    "    batch_size=64,\n",
    "    num_epochs=5,\n",
    "    learning_rate=5e-5,\n",
    "    preprocess_methods=[],\n",
    "    normalize=False,\n",
    "    output_dir='./results/visobert/no_pp-no_aug',\n",
    "    device='cuda' if torch.cuda.is_available() else 'cpu',\n",
    ")"
   ]
  },
  {
   "cell_type": "markdown",
   "metadata": {},
   "source": [
    "## ViSoBERT - Normalize - No Augmented Data"
   ]
  },
  {
   "cell_type": "code",
   "execution_count": 18,
   "metadata": {
    "execution": {
     "iopub.execute_input": "2025-06-29T12:47:41.487859Z",
     "iopub.status.busy": "2025-06-29T12:47:41.487376Z",
     "iopub.status.idle": "2025-06-29T13:11:43.435335Z",
     "shell.execute_reply": "2025-06-29T13:11:43.434594Z",
     "shell.execute_reply.started": "2025-06-29T12:47:41.487839Z"
    },
    "trusted": true
   },
   "outputs": [
    {
     "name": "stderr",
     "output_type": "stream",
     "text": [
      "Some weights of XLMRobertaForSequenceClassification were not initialized from the model checkpoint at uitnlp/visobert and are newly initialized: ['classifier.dense.bias', 'classifier.dense.weight', 'classifier.out_proj.bias', 'classifier.out_proj.weight']\n",
      "You should probably TRAIN this model on a down-stream task to be able to use it for predictions and inference.\n"
     ]
    },
    {
     "data": {
      "text/html": [
       "\n",
       "    <div>\n",
       "      \n",
       "      <progress value='1880' max='1880' style='width:300px; height:20px; vertical-align: middle;'></progress>\n",
       "      [1880/1880 23:27, Epoch 5/5]\n",
       "    </div>\n",
       "    <table border=\"1\" class=\"dataframe\">\n",
       "  <thead>\n",
       " <tr style=\"text-align: left;\">\n",
       "      <th>Step</th>\n",
       "      <th>Training Loss</th>\n",
       "    </tr>\n",
       "  </thead>\n",
       "  <tbody>\n",
       "    <tr>\n",
       "      <td>200</td>\n",
       "      <td>0.172300</td>\n",
       "    </tr>\n",
       "    <tr>\n",
       "      <td>400</td>\n",
       "      <td>0.119800</td>\n",
       "    </tr>\n",
       "    <tr>\n",
       "      <td>600</td>\n",
       "      <td>0.072300</td>\n",
       "    </tr>\n",
       "    <tr>\n",
       "      <td>800</td>\n",
       "      <td>0.062800</td>\n",
       "    </tr>\n",
       "    <tr>\n",
       "      <td>1000</td>\n",
       "      <td>0.024700</td>\n",
       "    </tr>\n",
       "    <tr>\n",
       "      <td>1200</td>\n",
       "      <td>0.022300</td>\n",
       "    </tr>\n",
       "    <tr>\n",
       "      <td>1400</td>\n",
       "      <td>0.011000</td>\n",
       "    </tr>\n",
       "    <tr>\n",
       "      <td>1600</td>\n",
       "      <td>0.008400</td>\n",
       "    </tr>\n",
       "    <tr>\n",
       "      <td>1800</td>\n",
       "      <td>0.005500</td>\n",
       "    </tr>\n",
       "  </tbody>\n",
       "</table><p>"
      ],
      "text/plain": [
       "<IPython.core.display.HTML object>"
      ]
     },
     "metadata": {},
     "output_type": "display_data"
    },
    {
     "data": {
      "text/html": [],
      "text/plain": [
       "<IPython.core.display.HTML object>"
      ]
     },
     "metadata": {},
     "output_type": "display_data"
    },
    {
     "name": "stdout",
     "output_type": "stream",
     "text": [
      "[[5295  113  140]\n",
      " [ 174  205   65]\n",
      " [ 190   71  427]]\n",
      "F1 - micro: 0.8872754491017965\n",
      "F1 - macro: 0.6947038997682241\n",
      "              precision    recall  f1-score   support\n",
      "\n",
      "       CLEAN       0.94      0.95      0.94      5548\n",
      "   OFFENSIVE       0.53      0.46      0.49       444\n",
      "        HATE       0.68      0.62      0.65       688\n",
      "\n",
      "    accuracy                           0.89      6680\n",
      "   macro avg       0.71      0.68      0.69      6680\n",
      "weighted avg       0.88      0.89      0.88      6680\n",
      "\n"
     ]
    },
    {
     "data": {
      "image/png": "[encoded data removed]",
      "text/plain": [
       "<Figure size 800x800 with 1 Axes>"
      ]
     },
     "metadata": {},
     "output_type": "display_data"
    },
    {
     "data": {
      "text/plain": [
       "<__main__.CustomTrainer at 0x783d9d6991d0>"
      ]
     },
     "execution_count": 18,
     "metadata": {},
     "output_type": "execute_result"
    }
   ],
   "source": [
    "train(\n",
    "    dataset=dataset,\n",
    "    model_name='uitnlp/visobert',\n",
    "    max_length=128,\n",
    "    batch_size=64,\n",
    "    num_epochs=5,\n",
    "    learning_rate=5e-5,\n",
    "    preprocess_methods=[],\n",
    "    normalize=True,\n",
    "    output_dir='./results/visobert/norm-no_aug',\n",
    "    device='cuda' if torch.cuda.is_available() else 'cpu',\n",
    ")"
   ]
  },
  {
   "cell_type": "markdown",
   "metadata": {},
   "source": [
    "## ViSoBERT - 1 + Normalize - No Augmented Data"
   ]
  },
  {
   "cell_type": "code",
   "execution_count": 19,
   "metadata": {
    "collapsed": true,
    "execution": {
     "iopub.execute_input": "2025-06-29T13:11:43.436405Z",
     "iopub.status.busy": "2025-06-29T13:11:43.436174Z",
     "iopub.status.idle": "2025-06-29T13:35:46.645058Z",
     "shell.execute_reply": "2025-06-29T13:35:46.644321Z",
     "shell.execute_reply.started": "2025-06-29T13:11:43.436390Z"
    },
    "jupyter": {
     "outputs_hidden": true,
     "source_hidden": true
    },
    "trusted": true
   },
   "outputs": [
    {
     "name": "stderr",
     "output_type": "stream",
     "text": [
      "Some weights of XLMRobertaForSequenceClassification were not initialized from the model checkpoint at uitnlp/visobert and are newly initialized: ['classifier.dense.bias', 'classifier.dense.weight', 'classifier.out_proj.bias', 'classifier.out_proj.weight']\n",
      "You should probably TRAIN this model on a down-stream task to be able to use it for predictions and inference.\n"
     ]
    },
    {
     "data": {
      "text/html": [
       "\n",
       "    <div>\n",
       "      \n",
       "      <progress value='1880' max='1880' style='width:300px; height:20px; vertical-align: middle;'></progress>\n",
       "      [1880/1880 23:28, Epoch 5/5]\n",
       "    </div>\n",
       "    <table border=\"1\" class=\"dataframe\">\n",
       "  <thead>\n",
       " <tr style=\"text-align: left;\">\n",
       "      <th>Step</th>\n",
       "      <th>Training Loss</th>\n",
       "    </tr>\n",
       "  </thead>\n",
       "  <tbody>\n",
       "    <tr>\n",
       "      <td>200</td>\n",
       "      <td>0.174200</td>\n",
       "    </tr>\n",
       "    <tr>\n",
       "      <td>400</td>\n",
       "      <td>0.120800</td>\n",
       "    </tr>\n",
       "    <tr>\n",
       "      <td>600</td>\n",
       "      <td>0.073100</td>\n",
       "    </tr>\n",
       "    <tr>\n",
       "      <td>800</td>\n",
       "      <td>0.062500</td>\n",
       "    </tr>\n",
       "    <tr>\n",
       "      <td>1000</td>\n",
       "      <td>0.025300</td>\n",
       "    </tr>\n",
       "    <tr>\n",
       "      <td>1200</td>\n",
       "      <td>0.022600</td>\n",
       "    </tr>\n",
       "    <tr>\n",
       "      <td>1400</td>\n",
       "      <td>0.011400</td>\n",
       "    </tr>\n",
       "    <tr>\n",
       "      <td>1600</td>\n",
       "      <td>0.008800</td>\n",
       "    </tr>\n",
       "    <tr>\n",
       "      <td>1800</td>\n",
       "      <td>0.005800</td>\n",
       "    </tr>\n",
       "  </tbody>\n",
       "</table><p>"
      ],
      "text/plain": [
       "<IPython.core.display.HTML object>"
      ]
     },
     "metadata": {},
     "output_type": "display_data"
    },
    {
     "data": {
      "text/html": [],
      "text/plain": [
       "<IPython.core.display.HTML object>"
      ]
     },
     "metadata": {},
     "output_type": "display_data"
    },
    {
     "name": "stdout",
     "output_type": "stream",
     "text": [
      "[[5306  113  129]\n",
      " [ 176  195   73]\n",
      " [ 196   76  416]]\n",
      "F1 - micro: 0.8857784431137724\n",
      "F1 - macro: 0.6844599192706163\n",
      "              precision    recall  f1-score   support\n",
      "\n",
      "       CLEAN       0.93      0.96      0.95      5548\n",
      "   OFFENSIVE       0.51      0.44      0.47       444\n",
      "        HATE       0.67      0.60      0.64       688\n",
      "\n",
      "    accuracy                           0.89      6680\n",
      "   macro avg       0.71      0.67      0.68      6680\n",
      "weighted avg       0.88      0.89      0.88      6680\n",
      "\n"
     ]
    },
    {
     "data": {
      "image/png": "[encoded data removed]",
      "text/plain": [
       "<Figure size 800x800 with 1 Axes>"
      ]
     },
     "metadata": {},
     "output_type": "display_data"
    },
    {
     "data": {
      "text/plain": [
       "<__main__.CustomTrainer at 0x783d4f1fb010>"
      ]
     },
     "execution_count": 19,
     "metadata": {},
     "output_type": "execute_result"
    }
   ],
   "source": [
    "train(\n",
    "    dataset=dataset,\n",
    "    model_name='uitnlp/visobert',\n",
    "    max_length=128,\n",
    "    batch_size=64,\n",
    "    num_epochs=5,\n",
    "    learning_rate=5e-5,\n",
    "    preprocess_methods=['1'],\n",
    "    normalize=True,\n",
    "    output_dir='./results/visobert/1-norm-no_aug',\n",
    "    device='cuda' if torch.cuda.is_available() else 'cpu',\n",
    ")"
   ]
  },
  {
   "cell_type": "markdown",
   "metadata": {},
   "source": [
    "## ViSoBERT - 1 + 2 + Normalize - No Augmented Data"
   ]
  },
  {
   "cell_type": "code",
   "execution_count": 17,
   "metadata": {
    "collapsed": true,
    "execution": {
     "iopub.execute_input": "2025-06-29T23:28:53.214016Z",
     "iopub.status.busy": "2025-06-29T23:28:53.213347Z",
     "iopub.status.idle": "2025-06-29T23:53:42.566468Z",
     "shell.execute_reply": "2025-06-29T23:53:42.565672Z",
     "shell.execute_reply.started": "2025-06-29T23:28:53.213988Z"
    },
    "jupyter": {
     "outputs_hidden": true,
     "source_hidden": true
    },
    "trusted": true
   },
   "outputs": [
    {
     "name": "stderr",
     "output_type": "stream",
     "text": [
      "Some weights of XLMRobertaForSequenceClassification were not initialized from the model checkpoint at uitnlp/visobert and are newly initialized: ['classifier.dense.bias', 'classifier.dense.weight', 'classifier.out_proj.bias', 'classifier.out_proj.weight']\n",
      "You should probably TRAIN this model on a down-stream task to be able to use it for predictions and inference.\n"
     ]
    },
    {
     "data": {
      "text/html": [
       "\n",
       "    <div>\n",
       "      \n",
       "      <progress value='1880' max='1880' style='width:300px; height:20px; vertical-align: middle;'></progress>\n",
       "      [1880/1880 24:14, Epoch 5/5]\n",
       "    </div>\n",
       "    <table border=\"1\" class=\"dataframe\">\n",
       "  <thead>\n",
       " <tr style=\"text-align: left;\">\n",
       "      <th>Step</th>\n",
       "      <th>Training Loss</th>\n",
       "    </tr>\n",
       "  </thead>\n",
       "  <tbody>\n",
       "    <tr>\n",
       "      <td>200</td>\n",
       "      <td>0.184500</td>\n",
       "    </tr>\n",
       "    <tr>\n",
       "      <td>400</td>\n",
       "      <td>0.121000</td>\n",
       "    </tr>\n",
       "    <tr>\n",
       "      <td>600</td>\n",
       "      <td>0.073700</td>\n",
       "    </tr>\n",
       "    <tr>\n",
       "      <td>800</td>\n",
       "      <td>0.062400</td>\n",
       "    </tr>\n",
       "    <tr>\n",
       "      <td>1000</td>\n",
       "      <td>0.024700</td>\n",
       "    </tr>\n",
       "    <tr>\n",
       "      <td>1200</td>\n",
       "      <td>0.023000</td>\n",
       "    </tr>\n",
       "    <tr>\n",
       "      <td>1400</td>\n",
       "      <td>0.011600</td>\n",
       "    </tr>\n",
       "    <tr>\n",
       "      <td>1600</td>\n",
       "      <td>0.009800</td>\n",
       "    </tr>\n",
       "    <tr>\n",
       "      <td>1800</td>\n",
       "      <td>0.005300</td>\n",
       "    </tr>\n",
       "  </tbody>\n",
       "</table><p>"
      ],
      "text/plain": [
       "<IPython.core.display.HTML object>"
      ]
     },
     "metadata": {},
     "output_type": "display_data"
    },
    {
     "data": {
      "text/html": [],
      "text/plain": [
       "<IPython.core.display.HTML object>"
      ]
     },
     "metadata": {},
     "output_type": "display_data"
    },
    {
     "name": "stdout",
     "output_type": "stream",
     "text": [
      "[[5278  125  145]\n",
      " [ 173  206   65]\n",
      " [ 189   73  426]]\n",
      "F1 - micro: 0.8847305389221557\n",
      "F1 - macro: 0.6909548309554691\n",
      "              precision    recall  f1-score   support\n",
      "\n",
      "       CLEAN       0.94      0.95      0.94      5548\n",
      "   OFFENSIVE       0.51      0.46      0.49       444\n",
      "        HATE       0.67      0.62      0.64       688\n",
      "\n",
      "    accuracy                           0.88      6680\n",
      "   macro avg       0.71      0.68      0.69      6680\n",
      "weighted avg       0.88      0.88      0.88      6680\n",
      "\n"
     ]
    },
    {
     "data": {
      "image/png": "[encoded data removed]",
      "text/plain": [
       "<Figure size 800x800 with 1 Axes>"
      ]
     },
     "metadata": {},
     "output_type": "display_data"
    },
    {
     "data": {
      "text/plain": [
       "<__main__.CustomTrainer at 0x7b78df9ac810>"
      ]
     },
     "execution_count": 17,
     "metadata": {},
     "output_type": "execute_result"
    }
   ],
   "source": [
    "train(\n",
    "    dataset=dataset,\n",
    "    model_name='uitnlp/visobert',\n",
    "    max_length=128,\n",
    "    batch_size=64,\n",
    "    num_epochs=5,\n",
    "    learning_rate=5e-5,\n",
    "    preprocess_methods=['1', '2'],\n",
    "    normalize=True,\n",
    "    output_dir='./results/visobert/1-2-norm-no_aug',\n",
    "    device='cuda' if torch.cuda.is_available() else 'cpu',\n",
    ")"
   ]
  },
  {
   "cell_type": "markdown",
   "metadata": {},
   "source": [
    "## ViSoBERT - 1 + 3 + Normalize - No Augmented Data"
   ]
  },
  {
   "cell_type": "code",
   "execution_count": 18,
   "metadata": {
    "collapsed": true,
    "execution": {
     "iopub.execute_input": "2025-06-29T14:00:23.542030Z",
     "iopub.status.busy": "2025-06-29T14:00:23.541241Z",
     "iopub.status.idle": "2025-06-29T14:24:57.950646Z",
     "shell.execute_reply": "2025-06-29T14:24:57.949932Z",
     "shell.execute_reply.started": "2025-06-29T14:00:23.541997Z"
    },
    "jupyter": {
     "outputs_hidden": true,
     "source_hidden": true
    },
    "trusted": true
   },
   "outputs": [
    {
     "name": "stderr",
     "output_type": "stream",
     "text": [
      "Some weights of XLMRobertaForSequenceClassification were not initialized from the model checkpoint at uitnlp/visobert and are newly initialized: ['classifier.dense.bias', 'classifier.dense.weight', 'classifier.out_proj.bias', 'classifier.out_proj.weight']\n",
      "You should probably TRAIN this model on a down-stream task to be able to use it for predictions and inference.\n"
     ]
    },
    {
     "data": {
      "text/html": [
       "\n",
       "    <div>\n",
       "      \n",
       "      <progress value='1880' max='1880' style='width:300px; height:20px; vertical-align: middle;'></progress>\n",
       "      [1880/1880 23:25, Epoch 5/5]\n",
       "    </div>\n",
       "    <table border=\"1\" class=\"dataframe\">\n",
       "  <thead>\n",
       " <tr style=\"text-align: left;\">\n",
       "      <th>Step</th>\n",
       "      <th>Training Loss</th>\n",
       "    </tr>\n",
       "  </thead>\n",
       "  <tbody>\n",
       "    <tr>\n",
       "      <td>200</td>\n",
       "      <td>0.186500</td>\n",
       "    </tr>\n",
       "    <tr>\n",
       "      <td>400</td>\n",
       "      <td>0.122900</td>\n",
       "    </tr>\n",
       "    <tr>\n",
       "      <td>600</td>\n",
       "      <td>0.074100</td>\n",
       "    </tr>\n",
       "    <tr>\n",
       "      <td>800</td>\n",
       "      <td>0.063400</td>\n",
       "    </tr>\n",
       "    <tr>\n",
       "      <td>1000</td>\n",
       "      <td>0.025500</td>\n",
       "    </tr>\n",
       "    <tr>\n",
       "      <td>1200</td>\n",
       "      <td>0.024000</td>\n",
       "    </tr>\n",
       "    <tr>\n",
       "      <td>1400</td>\n",
       "      <td>0.011200</td>\n",
       "    </tr>\n",
       "    <tr>\n",
       "      <td>1600</td>\n",
       "      <td>0.009700</td>\n",
       "    </tr>\n",
       "    <tr>\n",
       "      <td>1800</td>\n",
       "      <td>0.005200</td>\n",
       "    </tr>\n",
       "  </tbody>\n",
       "</table><p>"
      ],
      "text/plain": [
       "<IPython.core.display.HTML object>"
      ]
     },
     "metadata": {},
     "output_type": "display_data"
    },
    {
     "data": {
      "text/html": [],
      "text/plain": [
       "<IPython.core.display.HTML object>"
      ]
     },
     "metadata": {},
     "output_type": "display_data"
    },
    {
     "name": "stdout",
     "output_type": "stream",
     "text": [
      "[[5300  113  135]\n",
      " [ 181  199   64]\n",
      " [ 197   77  414]]\n",
      "F1 - micro: 0.8851796407185629\n",
      "F1 - macro: 0.6861537409170265\n",
      "              precision    recall  f1-score   support\n",
      "\n",
      "       CLEAN       0.93      0.96      0.94      5548\n",
      "   OFFENSIVE       0.51      0.45      0.48       444\n",
      "        HATE       0.68      0.60      0.64       688\n",
      "\n",
      "    accuracy                           0.89      6680\n",
      "   macro avg       0.71      0.67      0.69      6680\n",
      "weighted avg       0.88      0.89      0.88      6680\n",
      "\n"
     ]
    },
    {
     "data": {
      "image/png": "[encoded data removed]",
      "text/plain": [
       "<Figure size 800x800 with 1 Axes>"
      ]
     },
     "metadata": {},
     "output_type": "display_data"
    },
    {
     "data": {
      "text/plain": [
       "<__main__.CustomTrainer at 0x7b0aecd2e4d0>"
      ]
     },
     "execution_count": 18,
     "metadata": {},
     "output_type": "execute_result"
    }
   ],
   "source": [
    "train(\n",
    "    dataset=dataset,\n",
    "    model_name='uitnlp/visobert',\n",
    "    max_length=128,\n",
    "    batch_size=64,\n",
    "    num_epochs=5,\n",
    "    learning_rate=5e-5,\n",
    "    preprocess_methods=['1', '3'],\n",
    "    normalize=True,\n",
    "    output_dir='./results/visobert/1-3-norm-no_aug',\n",
    "    device='cuda' if torch.cuda.is_available() else 'cpu',\n",
    ")"
   ]
  },
  {
   "cell_type": "markdown",
   "metadata": {},
   "source": [
    "## VisoBERT - 1 + 2 + 3 + Normalize - No Augmented Data"
   ]
  },
  {
   "cell_type": "code",
   "execution_count": 18,
   "metadata": {
    "execution": {
     "iopub.execute_input": "2025-06-29T23:53:42.567908Z",
     "iopub.status.busy": "2025-06-29T23:53:42.567643Z",
     "iopub.status.idle": "2025-06-30T00:19:07.181332Z",
     "shell.execute_reply": "2025-06-30T00:19:07.180508Z",
     "shell.execute_reply.started": "2025-06-29T23:53:42.567890Z"
    },
    "trusted": true
   },
   "outputs": [
    {
     "name": "stderr",
     "output_type": "stream",
     "text": [
      "Some weights of XLMRobertaForSequenceClassification were not initialized from the model checkpoint at uitnlp/visobert and are newly initialized: ['classifier.dense.bias', 'classifier.dense.weight', 'classifier.out_proj.bias', 'classifier.out_proj.weight']\n",
      "You should probably TRAIN this model on a down-stream task to be able to use it for predictions and inference.\n"
     ]
    },
    {
     "data": {
      "text/html": [
       "\n",
       "    <div>\n",
       "      \n",
       "      <progress value='1880' max='1880' style='width:300px; height:20px; vertical-align: middle;'></progress>\n",
       "      [1880/1880 24:13, Epoch 5/5]\n",
       "    </div>\n",
       "    <table border=\"1\" class=\"dataframe\">\n",
       "  <thead>\n",
       " <tr style=\"text-align: left;\">\n",
       "      <th>Step</th>\n",
       "      <th>Training Loss</th>\n",
       "    </tr>\n",
       "  </thead>\n",
       "  <tbody>\n",
       "    <tr>\n",
       "      <td>200</td>\n",
       "      <td>0.175800</td>\n",
       "    </tr>\n",
       "    <tr>\n",
       "      <td>400</td>\n",
       "      <td>0.122800</td>\n",
       "    </tr>\n",
       "    <tr>\n",
       "      <td>600</td>\n",
       "      <td>0.073400</td>\n",
       "    </tr>\n",
       "    <tr>\n",
       "      <td>800</td>\n",
       "      <td>0.062900</td>\n",
       "    </tr>\n",
       "    <tr>\n",
       "      <td>1000</td>\n",
       "      <td>0.025300</td>\n",
       "    </tr>\n",
       "    <tr>\n",
       "      <td>1200</td>\n",
       "      <td>0.023100</td>\n",
       "    </tr>\n",
       "    <tr>\n",
       "      <td>1400</td>\n",
       "      <td>0.011400</td>\n",
       "    </tr>\n",
       "    <tr>\n",
       "      <td>1600</td>\n",
       "      <td>0.008700</td>\n",
       "    </tr>\n",
       "    <tr>\n",
       "      <td>1800</td>\n",
       "      <td>0.005700</td>\n",
       "    </tr>\n",
       "  </tbody>\n",
       "</table><p>"
      ],
      "text/plain": [
       "<IPython.core.display.HTML object>"
      ]
     },
     "metadata": {},
     "output_type": "display_data"
    },
    {
     "data": {
      "text/html": [],
      "text/plain": [
       "<IPython.core.display.HTML object>"
      ]
     },
     "metadata": {},
     "output_type": "display_data"
    },
    {
     "name": "stdout",
     "output_type": "stream",
     "text": [
      "[[5307  117  124]\n",
      " [ 184  193   67]\n",
      " [ 206   68  414]]\n",
      "F1 - micro: 0.8853293413173653\n",
      "F1 - macro: 0.684614592008692\n",
      "              precision    recall  f1-score   support\n",
      "\n",
      "       CLEAN       0.93      0.96      0.94      5548\n",
      "   OFFENSIVE       0.51      0.43      0.47       444\n",
      "        HATE       0.68      0.60      0.64       688\n",
      "\n",
      "    accuracy                           0.89      6680\n",
      "   macro avg       0.71      0.66      0.68      6680\n",
      "weighted avg       0.88      0.89      0.88      6680\n",
      "\n"
     ]
    },
    {
     "data": {
      "image/png": "[encoded data removed]",
      "text/plain": [
       "<Figure size 800x800 with 1 Axes>"
      ]
     },
     "metadata": {},
     "output_type": "display_data"
    },
    {
     "data": {
      "text/plain": [
       "<__main__.CustomTrainer at 0x7b7877ff3c50>"
      ]
     },
     "execution_count": 18,
     "metadata": {},
     "output_type": "execute_result"
    }
   ],
   "source": [
    "train(\n",
    "    dataset=dataset,\n",
    "    model_name='uitnlp/visobert',\n",
    "    max_length=128,\n",
    "    batch_size=64,\n",
    "    num_epochs=5,\n",
    "    learning_rate=5e-5,\n",
    "    preprocess_methods=['1', '2', '3'],\n",
    "    normalize=True,\n",
    "    output_dir='./results/visobert/1-2-norm-no_aug',\n",
    "    device='cuda' if torch.cuda.is_available() else 'cpu',\n",
    ")"
   ]
  },
  {
   "cell_type": "markdown",
   "metadata": {},
   "source": [
    "## VisoBERT - 1 + 2 + 3 + Normalize - EDA Augmented Data"
   ]
  },
  {
   "cell_type": "code",
   "execution_count": 20,
   "metadata": {
    "execution": {
     "iopub.execute_input": "2025-06-30T00:19:41.236190Z",
     "iopub.status.busy": "2025-06-30T00:19:41.235450Z",
     "iopub.status.idle": "2025-06-30T00:55:52.012631Z",
     "shell.execute_reply": "2025-06-30T00:55:52.011841Z",
     "shell.execute_reply.started": "2025-06-30T00:19:41.236160Z"
    },
    "trusted": true
   },
   "outputs": [
    {
     "name": "stderr",
     "output_type": "stream",
     "text": [
      "Some weights of XLMRobertaForSequenceClassification were not initialized from the model checkpoint at uitnlp/visobert and are newly initialized: ['classifier.dense.bias', 'classifier.dense.weight', 'classifier.out_proj.bias', 'classifier.out_proj.weight']\n",
      "You should probably TRAIN this model on a down-stream task to be able to use it for predictions and inference.\n"
     ]
    },
    {
     "data": {
      "text/html": [
       "\n",
       "    <div>\n",
       "      \n",
       "      <progress value='2680' max='2680' style='width:300px; height:20px; vertical-align: middle;'></progress>\n",
       "      [2680/2680 34:42, Epoch 5/5]\n",
       "    </div>\n",
       "    <table border=\"1\" class=\"dataframe\">\n",
       "  <thead>\n",
       " <tr style=\"text-align: left;\">\n",
       "      <th>Step</th>\n",
       "      <th>Training Loss</th>\n",
       "    </tr>\n",
       "  </thead>\n",
       "  <tbody>\n",
       "    <tr>\n",
       "      <td>200</td>\n",
       "      <td>0.229500</td>\n",
       "    </tr>\n",
       "    <tr>\n",
       "      <td>400</td>\n",
       "      <td>0.146400</td>\n",
       "    </tr>\n",
       "    <tr>\n",
       "      <td>600</td>\n",
       "      <td>0.097900</td>\n",
       "    </tr>\n",
       "    <tr>\n",
       "      <td>800</td>\n",
       "      <td>0.051800</td>\n",
       "    </tr>\n",
       "    <tr>\n",
       "      <td>1000</td>\n",
       "      <td>0.045900</td>\n",
       "    </tr>\n",
       "    <tr>\n",
       "      <td>1200</td>\n",
       "      <td>0.025200</td>\n",
       "    </tr>\n",
       "    <tr>\n",
       "      <td>1400</td>\n",
       "      <td>0.016700</td>\n",
       "    </tr>\n",
       "    <tr>\n",
       "      <td>1600</td>\n",
       "      <td>0.016500</td>\n",
       "    </tr>\n",
       "    <tr>\n",
       "      <td>1800</td>\n",
       "      <td>0.008400</td>\n",
       "    </tr>\n",
       "    <tr>\n",
       "      <td>2000</td>\n",
       "      <td>0.007400</td>\n",
       "    </tr>\n",
       "    <tr>\n",
       "      <td>2200</td>\n",
       "      <td>0.006800</td>\n",
       "    </tr>\n",
       "    <tr>\n",
       "      <td>2400</td>\n",
       "      <td>0.003500</td>\n",
       "    </tr>\n",
       "    <tr>\n",
       "      <td>2600</td>\n",
       "      <td>0.004400</td>\n",
       "    </tr>\n",
       "  </tbody>\n",
       "</table><p>"
      ],
      "text/plain": [
       "<IPython.core.display.HTML object>"
      ]
     },
     "metadata": {},
     "output_type": "display_data"
    },
    {
     "data": {
      "text/html": [],
      "text/plain": [
       "<IPython.core.display.HTML object>"
      ]
     },
     "metadata": {},
     "output_type": "display_data"
    },
    {
     "name": "stdout",
     "output_type": "stream",
     "text": [
      "[[5290  113  145]\n",
      " [ 206  161   77]\n",
      " [ 231   35  422]]\n",
      "F1 - micro: 0.8791916167664671\n",
      "F1 - macro: 0.6665385591243136\n",
      "              precision    recall  f1-score   support\n",
      "\n",
      "       CLEAN       0.92      0.95      0.94      5548\n",
      "   OFFENSIVE       0.52      0.36      0.43       444\n",
      "        HATE       0.66      0.61      0.63       688\n",
      "\n",
      "    accuracy                           0.88      6680\n",
      "   macro avg       0.70      0.64      0.67      6680\n",
      "weighted avg       0.87      0.88      0.87      6680\n",
      "\n"
     ]
    },
    {
     "data": {
      "image/png": "[encoded data removed]",
      "text/plain": [
       "<Figure size 800x800 with 1 Axes>"
      ]
     },
     "metadata": {},
     "output_type": "display_data"
    },
    {
     "data": {
      "text/plain": [
       "<__main__.CustomTrainer at 0x7b783df2bd90>"
      ]
     },
     "execution_count": 20,
     "metadata": {},
     "output_type": "execute_result"
    }
   ],
   "source": [
    "train(\n",
    "    dataset=eda_dataset,\n",
    "    model_name='uitnlp/visobert',\n",
    "    max_length=128,\n",
    "    batch_size=64,\n",
    "    num_epochs=5,\n",
    "    learning_rate=5e-5,\n",
    "    preprocess_methods=['1', '2', '3'],\n",
    "    normalize=True,\n",
    "    output_dir='./results/visobert/1-2-3-norm-eda_data',\n",
    "    device='cuda' if torch.cuda.is_available() else 'cpu',\n",
    ")"
   ]
  },
  {
   "cell_type": "markdown",
   "metadata": {},
   "source": [
    "## VisoBERT - 1 + 2 + 3 + Normalize - LLM Augmented Data"
   ]
  },
  {
   "cell_type": "code",
   "execution_count": 21,
   "metadata": {
    "execution": {
     "iopub.execute_input": "2025-06-30T01:00:31.509549Z",
     "iopub.status.busy": "2025-06-30T01:00:31.509253Z",
     "iopub.status.idle": "2025-06-30T01:36:18.788312Z",
     "shell.execute_reply": "2025-06-30T01:36:18.787540Z",
     "shell.execute_reply.started": "2025-06-30T01:00:31.509529Z"
    },
    "trusted": true
   },
   "outputs": [
    {
     "name": "stderr",
     "output_type": "stream",
     "text": [
      "Some weights of XLMRobertaForSequenceClassification were not initialized from the model checkpoint at uitnlp/visobert and are newly initialized: ['classifier.dense.bias', 'classifier.dense.weight', 'classifier.out_proj.bias', 'classifier.out_proj.weight']\n",
      "You should probably TRAIN this model on a down-stream task to be able to use it for predictions and inference.\n"
     ]
    },
    {
     "data": {
      "text/html": [
       "\n",
       "    <div>\n",
       "      \n",
       "      <progress value='2660' max='2660' style='width:300px; height:20px; vertical-align: middle;'></progress>\n",
       "      [2660/2660 34:25, Epoch 5/5]\n",
       "    </div>\n",
       "    <table border=\"1\" class=\"dataframe\">\n",
       "  <thead>\n",
       " <tr style=\"text-align: left;\">\n",
       "      <th>Step</th>\n",
       "      <th>Training Loss</th>\n",
       "    </tr>\n",
       "  </thead>\n",
       "  <tbody>\n",
       "    <tr>\n",
       "      <td>200</td>\n",
       "      <td>0.185500</td>\n",
       "    </tr>\n",
       "    <tr>\n",
       "      <td>400</td>\n",
       "      <td>0.123300</td>\n",
       "    </tr>\n",
       "    <tr>\n",
       "      <td>600</td>\n",
       "      <td>0.097700</td>\n",
       "    </tr>\n",
       "    <tr>\n",
       "      <td>800</td>\n",
       "      <td>0.066700</td>\n",
       "    </tr>\n",
       "    <tr>\n",
       "      <td>1000</td>\n",
       "      <td>0.066600</td>\n",
       "    </tr>\n",
       "    <tr>\n",
       "      <td>1200</td>\n",
       "      <td>0.040500</td>\n",
       "    </tr>\n",
       "    <tr>\n",
       "      <td>1400</td>\n",
       "      <td>0.029000</td>\n",
       "    </tr>\n",
       "    <tr>\n",
       "      <td>1600</td>\n",
       "      <td>0.025600</td>\n",
       "    </tr>\n",
       "    <tr>\n",
       "      <td>1800</td>\n",
       "      <td>0.012600</td>\n",
       "    </tr>\n",
       "    <tr>\n",
       "      <td>2000</td>\n",
       "      <td>0.013200</td>\n",
       "    </tr>\n",
       "    <tr>\n",
       "      <td>2200</td>\n",
       "      <td>0.009800</td>\n",
       "    </tr>\n",
       "    <tr>\n",
       "      <td>2400</td>\n",
       "      <td>0.005900</td>\n",
       "    </tr>\n",
       "    <tr>\n",
       "      <td>2600</td>\n",
       "      <td>0.006300</td>\n",
       "    </tr>\n",
       "  </tbody>\n",
       "</table><p>"
      ],
      "text/plain": [
       "<IPython.core.display.HTML object>"
      ]
     },
     "metadata": {},
     "output_type": "display_data"
    },
    {
     "data": {
      "text/html": [],
      "text/plain": [
       "<IPython.core.display.HTML object>"
      ]
     },
     "metadata": {},
     "output_type": "display_data"
    },
    {
     "name": "stdout",
     "output_type": "stream",
     "text": [
      "[[5299  115  134]\n",
      " [ 171  207   66]\n",
      " [ 208   80  400]]\n",
      "F1 - micro: 0.8841317365269461\n",
      "F1 - macro: 0.6848460501080386\n",
      "              precision    recall  f1-score   support\n",
      "\n",
      "       CLEAN       0.93      0.96      0.94      5548\n",
      "   OFFENSIVE       0.51      0.47      0.49       444\n",
      "        HATE       0.67      0.58      0.62       688\n",
      "\n",
      "    accuracy                           0.88      6680\n",
      "   macro avg       0.70      0.67      0.68      6680\n",
      "weighted avg       0.88      0.88      0.88      6680\n",
      "\n"
     ]
    },
    {
     "data": {
      "image/png": "[encoded data removed]",
      "text/plain": [
       "<Figure size 800x800 with 1 Axes>"
      ]
     },
     "metadata": {},
     "output_type": "display_data"
    },
    {
     "data": {
      "text/plain": [
       "<__main__.CustomTrainer at 0x7b784ff1b550>"
      ]
     },
     "execution_count": 21,
     "metadata": {},
     "output_type": "execute_result"
    }
   ],
   "source": [
    "train(\n",
    "    dataset=llm_dataset,\n",
    "    model_name='uitnlp/visobert',\n",
    "    max_length=128,\n",
    "    batch_size=64,\n",
    "    num_epochs=5,\n",
    "    learning_rate=5e-5,\n",
    "    preprocess_methods=['1', '2', '3'],\n",
    "    normalize=True,\n",
    "    output_dir='./results/phobert/1-2-3-norm-llm_data',\n",
    "    device='cuda' if torch.cuda.is_available() else 'cpu',\n",
    ")"
   ]
  }
 ],
 "metadata": {
  "kaggle": {
   "accelerator": "gpu",
   "dataSources": [
    {
     "datasetId": 7765477,
     "sourceId": 12319762,
     "sourceType": "datasetVersion"
    }
   ],
   "dockerImageVersionId": 31041,
   "isGpuEnabled": true,
   "isInternetEnabled": true,
   "language": "python",
   "sourceType": "notebook"
  },
  "kernelspec": {
   "display_name": ".venv",
   "language": "python",
   "name": "python3"
  },
  "language_info": {
   "codemirror_mode": {
    "name": "ipython",
    "version": 3
   },
   "file_extension": ".py",
   "mimetype": "text/x-python",
   "name": "python",
   "nbconvert_exporter": "python",
   "pygments_lexer": "ipython3",
   "version": "3.12.3"
  }
 },
 "nbformat": 4,
 "nbformat_minor": 4
}
